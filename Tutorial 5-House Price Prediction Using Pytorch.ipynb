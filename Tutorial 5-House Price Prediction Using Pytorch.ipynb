{
  "cells": [
    {
      "cell_type": "markdown",
      "metadata": {
        "id": "view-in-github",
        "colab_type": "text"
      },
      "source": [
        "<a href=\"https://colab.research.google.com/github/Ravi-kjain84/Pytorch-Tutorial/blob/master/Tutorial%205-House%20Price%20Prediction%20Using%20Pytorch.ipynb\" target=\"_parent\"><img src=\"https://colab.research.google.com/assets/colab-badge.svg\" alt=\"Open In Colab\"/></a>"
      ]
    },
    {
      "cell_type": "markdown",
      "metadata": {
        "id": "FvgHRt78TBg0"
      },
      "source": [
        "### Tutorial 5- Kaggle Advance House Price Prediction Using Pytorch- Tabular Dataset\n",
        "\n",
        "https://docs.fast.ai/tabular.html\n",
        "https://www.fast.ai/2018/04/29/categorical-embeddings/\n",
        "https://www.fast.ai/2018/04/29/categorical-embeddings/\n",
        "https://yashuseth.blog/2018/07/22/pytorch-neural-network-for-tabular-data-with-categorical-embeddings/\n",
        "\n",
        "\n",
        "1. Category Embedding\n"
      ]
    },
    {
      "cell_type": "code",
      "execution_count": 18,
      "metadata": {
        "id": "LH393RBcTBg5"
      },
      "outputs": [],
      "source": [
        "import pandas as pd\n",
        "import numpy as np"
      ]
    },
    {
      "cell_type": "code",
      "execution_count": 19,
      "metadata": {
        "id": "EdUCWNYlTBg6"
      },
      "outputs": [],
      "source": [
        "df=pd.read_csv('https://raw.githubusercontent.com/Ravi-kjain84/Pytorch-Tutorial/master/houseprice.csv',usecols=[\"SalePrice\", \"MSSubClass\", \"MSZoning\", \"LotFrontage\", \"LotArea\",\n",
        "                                         \"Street\", \"YearBuilt\", \"LotShape\", \"1stFlrSF\", \"2ndFlrSF\"]).dropna()"
      ]
    },
    {
      "cell_type": "code",
      "execution_count": 20,
      "metadata": {
        "id": "insiABRsTBg7",
        "outputId": "0c7b27b6-a17c-443d-c411-b7532c8c0287",
        "colab": {
          "base_uri": "https://localhost:8080/"
        }
      },
      "outputs": [
        {
          "output_type": "execute_result",
          "data": {
            "text/plain": [
              "(1201, 10)"
            ]
          },
          "metadata": {},
          "execution_count": 20
        }
      ],
      "source": [
        "df.shape"
      ]
    },
    {
      "cell_type": "code",
      "execution_count": 21,
      "metadata": {
        "id": "8g3V97nqTBg8",
        "outputId": "9ce3afcf-3bc4-43e3-f437-32d7980d15fd",
        "colab": {
          "base_uri": "https://localhost:8080/",
          "height": 206
        }
      },
      "outputs": [
        {
          "output_type": "execute_result",
          "data": {
            "text/plain": [
              "   MSSubClass MSZoning  LotFrontage  LotArea Street LotShape  YearBuilt  \\\n",
              "0          60       RL         65.0     8450   Pave      Reg       2003   \n",
              "1          20       RL         80.0     9600   Pave      Reg       1976   \n",
              "2          60       RL         68.0    11250   Pave      IR1       2001   \n",
              "3          70       RL         60.0     9550   Pave      IR1       1915   \n",
              "4          60       RL         84.0    14260   Pave      IR1       2000   \n",
              "\n",
              "   1stFlrSF  2ndFlrSF  SalePrice  \n",
              "0       856       854     208500  \n",
              "1      1262         0     181500  \n",
              "2       920       866     223500  \n",
              "3       961       756     140000  \n",
              "4      1145      1053     250000  "
            ],
            "text/html": [
              "\n",
              "  <div id=\"df-6b23a848-a664-4c19-8386-0e33f93304af\">\n",
              "    <div class=\"colab-df-container\">\n",
              "      <div>\n",
              "<style scoped>\n",
              "    .dataframe tbody tr th:only-of-type {\n",
              "        vertical-align: middle;\n",
              "    }\n",
              "\n",
              "    .dataframe tbody tr th {\n",
              "        vertical-align: top;\n",
              "    }\n",
              "\n",
              "    .dataframe thead th {\n",
              "        text-align: right;\n",
              "    }\n",
              "</style>\n",
              "<table border=\"1\" class=\"dataframe\">\n",
              "  <thead>\n",
              "    <tr style=\"text-align: right;\">\n",
              "      <th></th>\n",
              "      <th>MSSubClass</th>\n",
              "      <th>MSZoning</th>\n",
              "      <th>LotFrontage</th>\n",
              "      <th>LotArea</th>\n",
              "      <th>Street</th>\n",
              "      <th>LotShape</th>\n",
              "      <th>YearBuilt</th>\n",
              "      <th>1stFlrSF</th>\n",
              "      <th>2ndFlrSF</th>\n",
              "      <th>SalePrice</th>\n",
              "    </tr>\n",
              "  </thead>\n",
              "  <tbody>\n",
              "    <tr>\n",
              "      <th>0</th>\n",
              "      <td>60</td>\n",
              "      <td>RL</td>\n",
              "      <td>65.0</td>\n",
              "      <td>8450</td>\n",
              "      <td>Pave</td>\n",
              "      <td>Reg</td>\n",
              "      <td>2003</td>\n",
              "      <td>856</td>\n",
              "      <td>854</td>\n",
              "      <td>208500</td>\n",
              "    </tr>\n",
              "    <tr>\n",
              "      <th>1</th>\n",
              "      <td>20</td>\n",
              "      <td>RL</td>\n",
              "      <td>80.0</td>\n",
              "      <td>9600</td>\n",
              "      <td>Pave</td>\n",
              "      <td>Reg</td>\n",
              "      <td>1976</td>\n",
              "      <td>1262</td>\n",
              "      <td>0</td>\n",
              "      <td>181500</td>\n",
              "    </tr>\n",
              "    <tr>\n",
              "      <th>2</th>\n",
              "      <td>60</td>\n",
              "      <td>RL</td>\n",
              "      <td>68.0</td>\n",
              "      <td>11250</td>\n",
              "      <td>Pave</td>\n",
              "      <td>IR1</td>\n",
              "      <td>2001</td>\n",
              "      <td>920</td>\n",
              "      <td>866</td>\n",
              "      <td>223500</td>\n",
              "    </tr>\n",
              "    <tr>\n",
              "      <th>3</th>\n",
              "      <td>70</td>\n",
              "      <td>RL</td>\n",
              "      <td>60.0</td>\n",
              "      <td>9550</td>\n",
              "      <td>Pave</td>\n",
              "      <td>IR1</td>\n",
              "      <td>1915</td>\n",
              "      <td>961</td>\n",
              "      <td>756</td>\n",
              "      <td>140000</td>\n",
              "    </tr>\n",
              "    <tr>\n",
              "      <th>4</th>\n",
              "      <td>60</td>\n",
              "      <td>RL</td>\n",
              "      <td>84.0</td>\n",
              "      <td>14260</td>\n",
              "      <td>Pave</td>\n",
              "      <td>IR1</td>\n",
              "      <td>2000</td>\n",
              "      <td>1145</td>\n",
              "      <td>1053</td>\n",
              "      <td>250000</td>\n",
              "    </tr>\n",
              "  </tbody>\n",
              "</table>\n",
              "</div>\n",
              "      <button class=\"colab-df-convert\" onclick=\"convertToInteractive('df-6b23a848-a664-4c19-8386-0e33f93304af')\"\n",
              "              title=\"Convert this dataframe to an interactive table.\"\n",
              "              style=\"display:none;\">\n",
              "        \n",
              "  <svg xmlns=\"http://www.w3.org/2000/svg\" height=\"24px\"viewBox=\"0 0 24 24\"\n",
              "       width=\"24px\">\n",
              "    <path d=\"M0 0h24v24H0V0z\" fill=\"none\"/>\n",
              "    <path d=\"M18.56 5.44l.94 2.06.94-2.06 2.06-.94-2.06-.94-.94-2.06-.94 2.06-2.06.94zm-11 1L8.5 8.5l.94-2.06 2.06-.94-2.06-.94L8.5 2.5l-.94 2.06-2.06.94zm10 10l.94 2.06.94-2.06 2.06-.94-2.06-.94-.94-2.06-.94 2.06-2.06.94z\"/><path d=\"M17.41 7.96l-1.37-1.37c-.4-.4-.92-.59-1.43-.59-.52 0-1.04.2-1.43.59L10.3 9.45l-7.72 7.72c-.78.78-.78 2.05 0 2.83L4 21.41c.39.39.9.59 1.41.59.51 0 1.02-.2 1.41-.59l7.78-7.78 2.81-2.81c.8-.78.8-2.07 0-2.86zM5.41 20L4 18.59l7.72-7.72 1.47 1.35L5.41 20z\"/>\n",
              "  </svg>\n",
              "      </button>\n",
              "      \n",
              "  <style>\n",
              "    .colab-df-container {\n",
              "      display:flex;\n",
              "      flex-wrap:wrap;\n",
              "      gap: 12px;\n",
              "    }\n",
              "\n",
              "    .colab-df-convert {\n",
              "      background-color: #E8F0FE;\n",
              "      border: none;\n",
              "      border-radius: 50%;\n",
              "      cursor: pointer;\n",
              "      display: none;\n",
              "      fill: #1967D2;\n",
              "      height: 32px;\n",
              "      padding: 0 0 0 0;\n",
              "      width: 32px;\n",
              "    }\n",
              "\n",
              "    .colab-df-convert:hover {\n",
              "      background-color: #E2EBFA;\n",
              "      box-shadow: 0px 1px 2px rgba(60, 64, 67, 0.3), 0px 1px 3px 1px rgba(60, 64, 67, 0.15);\n",
              "      fill: #174EA6;\n",
              "    }\n",
              "\n",
              "    [theme=dark] .colab-df-convert {\n",
              "      background-color: #3B4455;\n",
              "      fill: #D2E3FC;\n",
              "    }\n",
              "\n",
              "    [theme=dark] .colab-df-convert:hover {\n",
              "      background-color: #434B5C;\n",
              "      box-shadow: 0px 1px 3px 1px rgba(0, 0, 0, 0.15);\n",
              "      filter: drop-shadow(0px 1px 2px rgba(0, 0, 0, 0.3));\n",
              "      fill: #FFFFFF;\n",
              "    }\n",
              "  </style>\n",
              "\n",
              "      <script>\n",
              "        const buttonEl =\n",
              "          document.querySelector('#df-6b23a848-a664-4c19-8386-0e33f93304af button.colab-df-convert');\n",
              "        buttonEl.style.display =\n",
              "          google.colab.kernel.accessAllowed ? 'block' : 'none';\n",
              "\n",
              "        async function convertToInteractive(key) {\n",
              "          const element = document.querySelector('#df-6b23a848-a664-4c19-8386-0e33f93304af');\n",
              "          const dataTable =\n",
              "            await google.colab.kernel.invokeFunction('convertToInteractive',\n",
              "                                                     [key], {});\n",
              "          if (!dataTable) return;\n",
              "\n",
              "          const docLinkHtml = 'Like what you see? Visit the ' +\n",
              "            '<a target=\"_blank\" href=https://colab.research.google.com/notebooks/data_table.ipynb>data table notebook</a>'\n",
              "            + ' to learn more about interactive tables.';\n",
              "          element.innerHTML = '';\n",
              "          dataTable['output_type'] = 'display_data';\n",
              "          await google.colab.output.renderOutput(dataTable, element);\n",
              "          const docLink = document.createElement('div');\n",
              "          docLink.innerHTML = docLinkHtml;\n",
              "          element.appendChild(docLink);\n",
              "        }\n",
              "      </script>\n",
              "    </div>\n",
              "  </div>\n",
              "  "
            ]
          },
          "metadata": {},
          "execution_count": 21
        }
      ],
      "source": [
        "df.head()"
      ]
    },
    {
      "cell_type": "code",
      "execution_count": 22,
      "metadata": {
        "id": "w5i_RQByTBg8",
        "outputId": "d1d5a714-6f96-4638-8958-61cb4d32b99a",
        "colab": {
          "base_uri": "https://localhost:8080/"
        }
      },
      "outputs": [
        {
          "output_type": "stream",
          "name": "stdout",
          "text": [
            "<class 'pandas.core.frame.DataFrame'>\n",
            "Int64Index: 1201 entries, 0 to 1459\n",
            "Data columns (total 10 columns):\n",
            " #   Column       Non-Null Count  Dtype  \n",
            "---  ------       --------------  -----  \n",
            " 0   MSSubClass   1201 non-null   int64  \n",
            " 1   MSZoning     1201 non-null   object \n",
            " 2   LotFrontage  1201 non-null   float64\n",
            " 3   LotArea      1201 non-null   int64  \n",
            " 4   Street       1201 non-null   object \n",
            " 5   LotShape     1201 non-null   object \n",
            " 6   YearBuilt    1201 non-null   int64  \n",
            " 7   1stFlrSF     1201 non-null   int64  \n",
            " 8   2ndFlrSF     1201 non-null   int64  \n",
            " 9   SalePrice    1201 non-null   int64  \n",
            "dtypes: float64(1), int64(6), object(3)\n",
            "memory usage: 103.2+ KB\n"
          ]
        }
      ],
      "source": [
        "df.info()"
      ]
    },
    {
      "cell_type": "code",
      "execution_count": 23,
      "metadata": {
        "id": "23v8XB24TBg8",
        "outputId": "618cda0c-3cff-48da-ca92-8b00883e30f1",
        "colab": {
          "base_uri": "https://localhost:8080/"
        }
      },
      "outputs": [
        {
          "output_type": "stream",
          "name": "stdout",
          "text": [
            "Column name MSSubClass and unique values are 15\n",
            "Column name MSZoning and unique values are 5\n",
            "Column name LotFrontage and unique values are 110\n",
            "Column name LotArea and unique values are 869\n",
            "Column name Street and unique values are 2\n",
            "Column name LotShape and unique values are 4\n",
            "Column name YearBuilt and unique values are 112\n",
            "Column name 1stFlrSF and unique values are 678\n",
            "Column name 2ndFlrSF and unique values are 368\n",
            "Column name SalePrice and unique values are 597\n"
          ]
        }
      ],
      "source": [
        "for i in df.columns:\n",
        "    print(\"Column name {} and unique values are {}\".format(i,len(df[i].unique())))"
      ]
    },
    {
      "cell_type": "code",
      "execution_count": 24,
      "metadata": {
        "id": "EQ_xKGq5TBg9",
        "outputId": "5b083e7a-9fbf-4e48-bb89-c05191b7a18c",
        "colab": {
          "base_uri": "https://localhost:8080/"
        }
      },
      "outputs": [
        {
          "output_type": "execute_result",
          "data": {
            "text/plain": [
              "2023"
            ]
          },
          "metadata": {},
          "execution_count": 24
        }
      ],
      "source": [
        "import datetime\n",
        "datetime.datetime.now().year"
      ]
    },
    {
      "cell_type": "code",
      "execution_count": 25,
      "metadata": {
        "id": "1Sx9AnePTBg9"
      },
      "outputs": [],
      "source": [
        "df['Total Years']=datetime.datetime.now().year-df['YearBuilt']"
      ]
    },
    {
      "cell_type": "code",
      "execution_count": 26,
      "metadata": {
        "id": "I-a_vSlcTBg-"
      },
      "outputs": [],
      "source": [
        "df.drop(\"YearBuilt\",axis=1,inplace=True)"
      ]
    },
    {
      "cell_type": "code",
      "execution_count": 27,
      "metadata": {
        "id": "aq13WmSyTBg_",
        "outputId": "9122b5ac-36b1-4f85-d5e8-4b0904d073ac",
        "colab": {
          "base_uri": "https://localhost:8080/"
        }
      },
      "outputs": [
        {
          "output_type": "execute_result",
          "data": {
            "text/plain": [
              "Index(['MSSubClass', 'MSZoning', 'LotFrontage', 'LotArea', 'Street',\n",
              "       'LotShape', '1stFlrSF', '2ndFlrSF', 'SalePrice', 'Total Years'],\n",
              "      dtype='object')"
            ]
          },
          "metadata": {},
          "execution_count": 27
        }
      ],
      "source": [
        "df.columns"
      ]
    },
    {
      "cell_type": "code",
      "execution_count": 28,
      "metadata": {
        "id": "OZm9SuIZTBg_"
      },
      "outputs": [],
      "source": [
        "cat_features=[\"MSSubClass\", \"MSZoning\", \"Street\", \"LotShape\"]\n",
        "out_feature=\"SalePrice\""
      ]
    },
    {
      "cell_type": "code",
      "execution_count": 29,
      "metadata": {
        "id": "TIFsbNn7TBhA",
        "outputId": "a77e1e36-a73a-4264-a10f-2229dfd13c9c",
        "colab": {
          "base_uri": "https://localhost:8080/"
        }
      },
      "outputs": [
        {
          "output_type": "execute_result",
          "data": {
            "text/plain": [
              "array([5, 0, 5, ..., 6, 0, 0])"
            ]
          },
          "metadata": {},
          "execution_count": 29
        }
      ],
      "source": [
        "from sklearn.preprocessing import LabelEncoder\n",
        "lbl_encoders={}\n",
        "lbl_encoders[\"MSSubClass\"]=LabelEncoder()\n",
        "lbl_encoders[\"MSSubClass\"].fit_transform(df[\"MSSubClass\"])"
      ]
    },
    {
      "cell_type": "code",
      "execution_count": 30,
      "metadata": {
        "id": "2uVS8zy-TBhA",
        "outputId": "4b483a2e-7592-4e1d-8538-7a38a2028bbc",
        "colab": {
          "base_uri": "https://localhost:8080/"
        }
      },
      "outputs": [
        {
          "output_type": "execute_result",
          "data": {
            "text/plain": [
              "{'MSSubClass': LabelEncoder()}"
            ]
          },
          "metadata": {},
          "execution_count": 30
        }
      ],
      "source": [
        "lbl_encoders"
      ]
    },
    {
      "cell_type": "code",
      "execution_count": 31,
      "metadata": {
        "id": "5QsqtBRNTBhA"
      },
      "outputs": [],
      "source": [
        "from sklearn.preprocessing import LabelEncoder\n",
        "lbl_encoders={}\n",
        "for feature in cat_features:\n",
        "    lbl_encoders[feature]=LabelEncoder()\n",
        "    df[feature]=lbl_encoders[feature].fit_transform(df[feature])"
      ]
    },
    {
      "cell_type": "code",
      "execution_count": 32,
      "metadata": {
        "id": "E4sxJrYUTBhB",
        "outputId": "61c441cf-3e49-415a-e405-16b63e8405a9",
        "colab": {
          "base_uri": "https://localhost:8080/",
          "height": 423
        }
      },
      "outputs": [
        {
          "output_type": "execute_result",
          "data": {
            "text/plain": [
              "      MSSubClass  MSZoning  LotFrontage  LotArea  Street  LotShape  1stFlrSF  \\\n",
              "0              5         3         65.0     8450       1         3       856   \n",
              "1              0         3         80.0     9600       1         3      1262   \n",
              "2              5         3         68.0    11250       1         0       920   \n",
              "3              6         3         60.0     9550       1         0       961   \n",
              "4              5         3         84.0    14260       1         0      1145   \n",
              "...          ...       ...          ...      ...     ...       ...       ...   \n",
              "1455           5         3         62.0     7917       1         3       953   \n",
              "1456           0         3         85.0    13175       1         3      2073   \n",
              "1457           6         3         66.0     9042       1         3      1188   \n",
              "1458           0         3         68.0     9717       1         3      1078   \n",
              "1459           0         3         75.0     9937       1         3      1256   \n",
              "\n",
              "      2ndFlrSF  SalePrice  Total Years  \n",
              "0          854     208500           20  \n",
              "1            0     181500           47  \n",
              "2          866     223500           22  \n",
              "3          756     140000          108  \n",
              "4         1053     250000           23  \n",
              "...        ...        ...          ...  \n",
              "1455       694     175000           24  \n",
              "1456         0     210000           45  \n",
              "1457      1152     266500           82  \n",
              "1458         0     142125           73  \n",
              "1459         0     147500           58  \n",
              "\n",
              "[1201 rows x 10 columns]"
            ],
            "text/html": [
              "\n",
              "  <div id=\"df-44b6e5ec-e579-46ba-95a7-3bdb6c057384\">\n",
              "    <div class=\"colab-df-container\">\n",
              "      <div>\n",
              "<style scoped>\n",
              "    .dataframe tbody tr th:only-of-type {\n",
              "        vertical-align: middle;\n",
              "    }\n",
              "\n",
              "    .dataframe tbody tr th {\n",
              "        vertical-align: top;\n",
              "    }\n",
              "\n",
              "    .dataframe thead th {\n",
              "        text-align: right;\n",
              "    }\n",
              "</style>\n",
              "<table border=\"1\" class=\"dataframe\">\n",
              "  <thead>\n",
              "    <tr style=\"text-align: right;\">\n",
              "      <th></th>\n",
              "      <th>MSSubClass</th>\n",
              "      <th>MSZoning</th>\n",
              "      <th>LotFrontage</th>\n",
              "      <th>LotArea</th>\n",
              "      <th>Street</th>\n",
              "      <th>LotShape</th>\n",
              "      <th>1stFlrSF</th>\n",
              "      <th>2ndFlrSF</th>\n",
              "      <th>SalePrice</th>\n",
              "      <th>Total Years</th>\n",
              "    </tr>\n",
              "  </thead>\n",
              "  <tbody>\n",
              "    <tr>\n",
              "      <th>0</th>\n",
              "      <td>5</td>\n",
              "      <td>3</td>\n",
              "      <td>65.0</td>\n",
              "      <td>8450</td>\n",
              "      <td>1</td>\n",
              "      <td>3</td>\n",
              "      <td>856</td>\n",
              "      <td>854</td>\n",
              "      <td>208500</td>\n",
              "      <td>20</td>\n",
              "    </tr>\n",
              "    <tr>\n",
              "      <th>1</th>\n",
              "      <td>0</td>\n",
              "      <td>3</td>\n",
              "      <td>80.0</td>\n",
              "      <td>9600</td>\n",
              "      <td>1</td>\n",
              "      <td>3</td>\n",
              "      <td>1262</td>\n",
              "      <td>0</td>\n",
              "      <td>181500</td>\n",
              "      <td>47</td>\n",
              "    </tr>\n",
              "    <tr>\n",
              "      <th>2</th>\n",
              "      <td>5</td>\n",
              "      <td>3</td>\n",
              "      <td>68.0</td>\n",
              "      <td>11250</td>\n",
              "      <td>1</td>\n",
              "      <td>0</td>\n",
              "      <td>920</td>\n",
              "      <td>866</td>\n",
              "      <td>223500</td>\n",
              "      <td>22</td>\n",
              "    </tr>\n",
              "    <tr>\n",
              "      <th>3</th>\n",
              "      <td>6</td>\n",
              "      <td>3</td>\n",
              "      <td>60.0</td>\n",
              "      <td>9550</td>\n",
              "      <td>1</td>\n",
              "      <td>0</td>\n",
              "      <td>961</td>\n",
              "      <td>756</td>\n",
              "      <td>140000</td>\n",
              "      <td>108</td>\n",
              "    </tr>\n",
              "    <tr>\n",
              "      <th>4</th>\n",
              "      <td>5</td>\n",
              "      <td>3</td>\n",
              "      <td>84.0</td>\n",
              "      <td>14260</td>\n",
              "      <td>1</td>\n",
              "      <td>0</td>\n",
              "      <td>1145</td>\n",
              "      <td>1053</td>\n",
              "      <td>250000</td>\n",
              "      <td>23</td>\n",
              "    </tr>\n",
              "    <tr>\n",
              "      <th>...</th>\n",
              "      <td>...</td>\n",
              "      <td>...</td>\n",
              "      <td>...</td>\n",
              "      <td>...</td>\n",
              "      <td>...</td>\n",
              "      <td>...</td>\n",
              "      <td>...</td>\n",
              "      <td>...</td>\n",
              "      <td>...</td>\n",
              "      <td>...</td>\n",
              "    </tr>\n",
              "    <tr>\n",
              "      <th>1455</th>\n",
              "      <td>5</td>\n",
              "      <td>3</td>\n",
              "      <td>62.0</td>\n",
              "      <td>7917</td>\n",
              "      <td>1</td>\n",
              "      <td>3</td>\n",
              "      <td>953</td>\n",
              "      <td>694</td>\n",
              "      <td>175000</td>\n",
              "      <td>24</td>\n",
              "    </tr>\n",
              "    <tr>\n",
              "      <th>1456</th>\n",
              "      <td>0</td>\n",
              "      <td>3</td>\n",
              "      <td>85.0</td>\n",
              "      <td>13175</td>\n",
              "      <td>1</td>\n",
              "      <td>3</td>\n",
              "      <td>2073</td>\n",
              "      <td>0</td>\n",
              "      <td>210000</td>\n",
              "      <td>45</td>\n",
              "    </tr>\n",
              "    <tr>\n",
              "      <th>1457</th>\n",
              "      <td>6</td>\n",
              "      <td>3</td>\n",
              "      <td>66.0</td>\n",
              "      <td>9042</td>\n",
              "      <td>1</td>\n",
              "      <td>3</td>\n",
              "      <td>1188</td>\n",
              "      <td>1152</td>\n",
              "      <td>266500</td>\n",
              "      <td>82</td>\n",
              "    </tr>\n",
              "    <tr>\n",
              "      <th>1458</th>\n",
              "      <td>0</td>\n",
              "      <td>3</td>\n",
              "      <td>68.0</td>\n",
              "      <td>9717</td>\n",
              "      <td>1</td>\n",
              "      <td>3</td>\n",
              "      <td>1078</td>\n",
              "      <td>0</td>\n",
              "      <td>142125</td>\n",
              "      <td>73</td>\n",
              "    </tr>\n",
              "    <tr>\n",
              "      <th>1459</th>\n",
              "      <td>0</td>\n",
              "      <td>3</td>\n",
              "      <td>75.0</td>\n",
              "      <td>9937</td>\n",
              "      <td>1</td>\n",
              "      <td>3</td>\n",
              "      <td>1256</td>\n",
              "      <td>0</td>\n",
              "      <td>147500</td>\n",
              "      <td>58</td>\n",
              "    </tr>\n",
              "  </tbody>\n",
              "</table>\n",
              "<p>1201 rows × 10 columns</p>\n",
              "</div>\n",
              "      <button class=\"colab-df-convert\" onclick=\"convertToInteractive('df-44b6e5ec-e579-46ba-95a7-3bdb6c057384')\"\n",
              "              title=\"Convert this dataframe to an interactive table.\"\n",
              "              style=\"display:none;\">\n",
              "        \n",
              "  <svg xmlns=\"http://www.w3.org/2000/svg\" height=\"24px\"viewBox=\"0 0 24 24\"\n",
              "       width=\"24px\">\n",
              "    <path d=\"M0 0h24v24H0V0z\" fill=\"none\"/>\n",
              "    <path d=\"M18.56 5.44l.94 2.06.94-2.06 2.06-.94-2.06-.94-.94-2.06-.94 2.06-2.06.94zm-11 1L8.5 8.5l.94-2.06 2.06-.94-2.06-.94L8.5 2.5l-.94 2.06-2.06.94zm10 10l.94 2.06.94-2.06 2.06-.94-2.06-.94-.94-2.06-.94 2.06-2.06.94z\"/><path d=\"M17.41 7.96l-1.37-1.37c-.4-.4-.92-.59-1.43-.59-.52 0-1.04.2-1.43.59L10.3 9.45l-7.72 7.72c-.78.78-.78 2.05 0 2.83L4 21.41c.39.39.9.59 1.41.59.51 0 1.02-.2 1.41-.59l7.78-7.78 2.81-2.81c.8-.78.8-2.07 0-2.86zM5.41 20L4 18.59l7.72-7.72 1.47 1.35L5.41 20z\"/>\n",
              "  </svg>\n",
              "      </button>\n",
              "      \n",
              "  <style>\n",
              "    .colab-df-container {\n",
              "      display:flex;\n",
              "      flex-wrap:wrap;\n",
              "      gap: 12px;\n",
              "    }\n",
              "\n",
              "    .colab-df-convert {\n",
              "      background-color: #E8F0FE;\n",
              "      border: none;\n",
              "      border-radius: 50%;\n",
              "      cursor: pointer;\n",
              "      display: none;\n",
              "      fill: #1967D2;\n",
              "      height: 32px;\n",
              "      padding: 0 0 0 0;\n",
              "      width: 32px;\n",
              "    }\n",
              "\n",
              "    .colab-df-convert:hover {\n",
              "      background-color: #E2EBFA;\n",
              "      box-shadow: 0px 1px 2px rgba(60, 64, 67, 0.3), 0px 1px 3px 1px rgba(60, 64, 67, 0.15);\n",
              "      fill: #174EA6;\n",
              "    }\n",
              "\n",
              "    [theme=dark] .colab-df-convert {\n",
              "      background-color: #3B4455;\n",
              "      fill: #D2E3FC;\n",
              "    }\n",
              "\n",
              "    [theme=dark] .colab-df-convert:hover {\n",
              "      background-color: #434B5C;\n",
              "      box-shadow: 0px 1px 3px 1px rgba(0, 0, 0, 0.15);\n",
              "      filter: drop-shadow(0px 1px 2px rgba(0, 0, 0, 0.3));\n",
              "      fill: #FFFFFF;\n",
              "    }\n",
              "  </style>\n",
              "\n",
              "      <script>\n",
              "        const buttonEl =\n",
              "          document.querySelector('#df-44b6e5ec-e579-46ba-95a7-3bdb6c057384 button.colab-df-convert');\n",
              "        buttonEl.style.display =\n",
              "          google.colab.kernel.accessAllowed ? 'block' : 'none';\n",
              "\n",
              "        async function convertToInteractive(key) {\n",
              "          const element = document.querySelector('#df-44b6e5ec-e579-46ba-95a7-3bdb6c057384');\n",
              "          const dataTable =\n",
              "            await google.colab.kernel.invokeFunction('convertToInteractive',\n",
              "                                                     [key], {});\n",
              "          if (!dataTable) return;\n",
              "\n",
              "          const docLinkHtml = 'Like what you see? Visit the ' +\n",
              "            '<a target=\"_blank\" href=https://colab.research.google.com/notebooks/data_table.ipynb>data table notebook</a>'\n",
              "            + ' to learn more about interactive tables.';\n",
              "          element.innerHTML = '';\n",
              "          dataTable['output_type'] = 'display_data';\n",
              "          await google.colab.output.renderOutput(dataTable, element);\n",
              "          const docLink = document.createElement('div');\n",
              "          docLink.innerHTML = docLinkHtml;\n",
              "          element.appendChild(docLink);\n",
              "        }\n",
              "      </script>\n",
              "    </div>\n",
              "  </div>\n",
              "  "
            ]
          },
          "metadata": {},
          "execution_count": 32
        }
      ],
      "source": [
        "df"
      ]
    },
    {
      "cell_type": "code",
      "execution_count": 33,
      "metadata": {
        "id": "ywnwkIJuTBhB",
        "outputId": "3034724c-ecfd-40b3-9e19-5244008c9634",
        "colab": {
          "base_uri": "https://localhost:8080/"
        }
      },
      "outputs": [
        {
          "output_type": "execute_result",
          "data": {
            "text/plain": [
              "array([[5, 3, 1, 3],\n",
              "       [0, 3, 1, 3],\n",
              "       [5, 3, 1, 0],\n",
              "       ...,\n",
              "       [6, 3, 1, 3],\n",
              "       [0, 3, 1, 3],\n",
              "       [0, 3, 1, 3]])"
            ]
          },
          "metadata": {},
          "execution_count": 33
        }
      ],
      "source": [
        "### Stacking and Converting Into Tensors\n",
        "cat_features=np.stack([df['MSSubClass'],df['MSZoning'],df['Street'],df['LotShape']],1)\n",
        "cat_features\n",
        "                       "
      ]
    },
    {
      "cell_type": "code",
      "execution_count": 34,
      "metadata": {
        "id": "ChN--OnnTBhB",
        "outputId": "f8f1b78f-297d-4f9e-85c5-9dbb41d03a6c",
        "colab": {
          "base_uri": "https://localhost:8080/"
        }
      },
      "outputs": [
        {
          "output_type": "execute_result",
          "data": {
            "text/plain": [
              "tensor([[5, 3, 1, 3],\n",
              "        [0, 3, 1, 3],\n",
              "        [5, 3, 1, 0],\n",
              "        ...,\n",
              "        [6, 3, 1, 3],\n",
              "        [0, 3, 1, 3],\n",
              "        [0, 3, 1, 3]])"
            ]
          },
          "metadata": {},
          "execution_count": 34
        }
      ],
      "source": [
        "### Convert numpy to Tensors\n",
        "import torch\n",
        "cat_features=torch.tensor(cat_features,dtype=torch.int64)\n",
        "cat_features"
      ]
    },
    {
      "cell_type": "code",
      "execution_count": 35,
      "metadata": {
        "id": "O-GJHPzeTBhC"
      },
      "outputs": [],
      "source": [
        "#### create continuous variable\n",
        "cont_features=[]\n",
        "for i in df.columns:\n",
        "    if i in [\"MSSubClass\", \"MSZoning\", \"Street\", \"LotShape\",\"SalePrice\"]:\n",
        "        pass\n",
        "    else:\n",
        "        cont_features.append(i)\n"
      ]
    },
    {
      "cell_type": "code",
      "execution_count": 36,
      "metadata": {
        "id": "1evteyB7TBhD",
        "outputId": "a4163372-0f65-4482-d6da-95267c5e10ef",
        "colab": {
          "base_uri": "https://localhost:8080/"
        }
      },
      "outputs": [
        {
          "output_type": "execute_result",
          "data": {
            "text/plain": [
              "['LotFrontage', 'LotArea', '1stFlrSF', '2ndFlrSF', 'Total Years']"
            ]
          },
          "metadata": {},
          "execution_count": 36
        }
      ],
      "source": [
        "cont_features"
      ]
    },
    {
      "cell_type": "code",
      "execution_count": 37,
      "metadata": {
        "id": "JeckUFzmTBhD",
        "outputId": "ddcae0c9-c353-4225-e541-3977b99ca9df",
        "colab": {
          "base_uri": "https://localhost:8080/"
        }
      },
      "outputs": [
        {
          "output_type": "execute_result",
          "data": {
            "text/plain": [
              "tensor([[   65.,  8450.,   856.,   854.,    20.],\n",
              "        [   80.,  9600.,  1262.,     0.,    47.],\n",
              "        [   68., 11250.,   920.,   866.,    22.],\n",
              "        ...,\n",
              "        [   66.,  9042.,  1188.,  1152.,    82.],\n",
              "        [   68.,  9717.,  1078.,     0.,    73.],\n",
              "        [   75.,  9937.,  1256.,     0.,    58.]])"
            ]
          },
          "metadata": {},
          "execution_count": 37
        }
      ],
      "source": [
        "### Stacking continuous variable to a tensor\n",
        "cont_values=np.stack([df[i].values for i in cont_features],axis=1)\n",
        "cont_values=torch.tensor(cont_values,dtype=torch.float)\n",
        "cont_values"
      ]
    },
    {
      "cell_type": "code",
      "execution_count": 38,
      "metadata": {
        "id": "Vn1j5hLtTBhE",
        "outputId": "e8156c6a-b668-43f4-d85b-7c9848678eac",
        "colab": {
          "base_uri": "https://localhost:8080/"
        }
      },
      "outputs": [
        {
          "output_type": "execute_result",
          "data": {
            "text/plain": [
              "torch.float32"
            ]
          },
          "metadata": {},
          "execution_count": 38
        }
      ],
      "source": [
        "cont_values.dtype"
      ]
    },
    {
      "cell_type": "code",
      "execution_count": 39,
      "metadata": {
        "id": "gAMROQeyTBhE",
        "outputId": "48d75a35-9ce9-4d23-d988-68ef958ce1d3",
        "colab": {
          "base_uri": "https://localhost:8080/"
        }
      },
      "outputs": [
        {
          "output_type": "execute_result",
          "data": {
            "text/plain": [
              "tensor([[208500.],\n",
              "        [181500.],\n",
              "        [223500.],\n",
              "        ...,\n",
              "        [266500.],\n",
              "        [142125.],\n",
              "        [147500.]])"
            ]
          },
          "metadata": {},
          "execution_count": 39
        }
      ],
      "source": [
        "### Dependent Feature \n",
        "y=torch.tensor(df['SalePrice'].values,dtype=torch.float).reshape(-1,1)\n",
        "y"
      ]
    },
    {
      "cell_type": "code",
      "execution_count": 40,
      "metadata": {
        "id": "Sv3J0X3fTBhF",
        "outputId": "f8c8c1f4-c366-4ff5-df15-88471ae12a18",
        "colab": {
          "base_uri": "https://localhost:8080/"
        }
      },
      "outputs": [
        {
          "output_type": "stream",
          "name": "stdout",
          "text": [
            "<class 'pandas.core.frame.DataFrame'>\n",
            "Int64Index: 1201 entries, 0 to 1459\n",
            "Data columns (total 10 columns):\n",
            " #   Column       Non-Null Count  Dtype  \n",
            "---  ------       --------------  -----  \n",
            " 0   MSSubClass   1201 non-null   int64  \n",
            " 1   MSZoning     1201 non-null   int64  \n",
            " 2   LotFrontage  1201 non-null   float64\n",
            " 3   LotArea      1201 non-null   int64  \n",
            " 4   Street       1201 non-null   int64  \n",
            " 5   LotShape     1201 non-null   int64  \n",
            " 6   1stFlrSF     1201 non-null   int64  \n",
            " 7   2ndFlrSF     1201 non-null   int64  \n",
            " 8   SalePrice    1201 non-null   int64  \n",
            " 9   Total Years  1201 non-null   int64  \n",
            "dtypes: float64(1), int64(9)\n",
            "memory usage: 103.2 KB\n"
          ]
        }
      ],
      "source": [
        "df.info()"
      ]
    },
    {
      "cell_type": "code",
      "execution_count": 41,
      "metadata": {
        "id": "4fIJljK-TBhF",
        "outputId": "16462609-c97f-44e1-94d6-5446d1147692",
        "colab": {
          "base_uri": "https://localhost:8080/"
        }
      },
      "outputs": [
        {
          "output_type": "execute_result",
          "data": {
            "text/plain": [
              "(torch.Size([1201, 4]), torch.Size([1201, 5]), torch.Size([1201, 1]))"
            ]
          },
          "metadata": {},
          "execution_count": 41
        }
      ],
      "source": [
        "cat_features.shape,cont_values.shape,y.shape"
      ]
    },
    {
      "cell_type": "code",
      "execution_count": 42,
      "metadata": {
        "id": "cPvo3k0PTBhF",
        "outputId": "703d2e3c-9246-4d39-864b-5c2b2b620916",
        "colab": {
          "base_uri": "https://localhost:8080/"
        }
      },
      "outputs": [
        {
          "output_type": "execute_result",
          "data": {
            "text/plain": [
              "15"
            ]
          },
          "metadata": {},
          "execution_count": 42
        }
      ],
      "source": [
        "len(df['MSSubClass'].unique())"
      ]
    },
    {
      "cell_type": "code",
      "execution_count": 43,
      "metadata": {
        "id": "mEBM6ODqTBhG"
      },
      "outputs": [],
      "source": [
        "#### Embedding Size For Categorical columns\n",
        "cat_dims=[len(df[col].unique()) for col in [\"MSSubClass\", \"MSZoning\", \"Street\", \"LotShape\"]]"
      ]
    },
    {
      "cell_type": "code",
      "execution_count": 44,
      "metadata": {
        "id": "LIb0Q-UbTBhG",
        "outputId": "c0e39236-35d5-4437-ab4d-d88e5a886671",
        "colab": {
          "base_uri": "https://localhost:8080/"
        }
      },
      "outputs": [
        {
          "output_type": "execute_result",
          "data": {
            "text/plain": [
              "[15, 5, 2, 4]"
            ]
          },
          "metadata": {},
          "execution_count": 44
        }
      ],
      "source": [
        "cat_dims"
      ]
    },
    {
      "cell_type": "code",
      "execution_count": 45,
      "metadata": {
        "id": "z7LT3CrATBhH"
      },
      "outputs": [],
      "source": [
        "embedding_dim= [(x, min(50, (x + 1) // 2)) for x in cat_dims]"
      ]
    },
    {
      "cell_type": "code",
      "execution_count": 46,
      "metadata": {
        "id": "jO2_CBr5TBhH",
        "outputId": "5529bcca-7c5b-4743-f825-fdc3d7c2dfea",
        "colab": {
          "base_uri": "https://localhost:8080/"
        }
      },
      "outputs": [
        {
          "output_type": "execute_result",
          "data": {
            "text/plain": [
              "[(15, 8), (5, 3), (2, 1), (4, 2)]"
            ]
          },
          "metadata": {},
          "execution_count": 46
        }
      ],
      "source": [
        "embedding_dim"
      ]
    },
    {
      "cell_type": "code",
      "execution_count": 46,
      "metadata": {
        "id": "tyM4npL9TBhH"
      },
      "outputs": [],
      "source": []
    },
    {
      "cell_type": "code",
      "execution_count": 47,
      "metadata": {
        "id": "pDwEt8AiTBhH",
        "outputId": "574065f9-7dde-441f-9686-53a79ba7c7d9",
        "colab": {
          "base_uri": "https://localhost:8080/"
        }
      },
      "outputs": [
        {
          "output_type": "execute_result",
          "data": {
            "text/plain": [
              "ModuleList(\n",
              "  (0): Embedding(15, 8)\n",
              "  (1): Embedding(5, 3)\n",
              "  (2): Embedding(2, 1)\n",
              "  (3): Embedding(4, 2)\n",
              ")"
            ]
          },
          "metadata": {},
          "execution_count": 47
        }
      ],
      "source": [
        "import torch\n",
        "import torch.nn as nn\n",
        "import torch.nn.functional as F\n",
        "embed_representation=nn.ModuleList([nn.Embedding(inp,out) for inp,out in embedding_dim])\n",
        "embed_representation"
      ]
    },
    {
      "cell_type": "code",
      "execution_count": 48,
      "metadata": {
        "id": "4Xm9ZfYzTBhI",
        "outputId": "134ebe28-4ce5-407c-f325-c8273db217ac",
        "colab": {
          "base_uri": "https://localhost:8080/"
        }
      },
      "outputs": [
        {
          "output_type": "execute_result",
          "data": {
            "text/plain": [
              "tensor([[5, 3, 1, 3],\n",
              "        [0, 3, 1, 3],\n",
              "        [5, 3, 1, 0],\n",
              "        ...,\n",
              "        [6, 3, 1, 3],\n",
              "        [0, 3, 1, 3],\n",
              "        [0, 3, 1, 3]])"
            ]
          },
          "metadata": {},
          "execution_count": 48
        }
      ],
      "source": [
        "cat_features"
      ]
    },
    {
      "cell_type": "code",
      "execution_count": 49,
      "metadata": {
        "id": "C2UeuLisTBhI",
        "outputId": "731d864a-c545-48b6-8017-8c9f0732292a",
        "colab": {
          "base_uri": "https://localhost:8080/"
        }
      },
      "outputs": [
        {
          "output_type": "execute_result",
          "data": {
            "text/plain": [
              "tensor([[5, 3, 1, 3],\n",
              "        [0, 3, 1, 3],\n",
              "        [5, 3, 1, 0],\n",
              "        [6, 3, 1, 0]])"
            ]
          },
          "metadata": {},
          "execution_count": 49
        }
      ],
      "source": [
        "cat_featuresz=cat_features[:4]\n",
        "cat_featuresz"
      ]
    },
    {
      "cell_type": "code",
      "execution_count": 50,
      "metadata": {
        "id": "JfyQlkrWTBhI"
      },
      "outputs": [],
      "source": [
        "pd.set_option('display.max_rows', 500)\n",
        "embedding_val=[]\n",
        "for i,e in enumerate(embed_representation):\n",
        "    embedding_val.append(e(cat_features[:,i]))"
      ]
    },
    {
      "cell_type": "code",
      "execution_count": 51,
      "metadata": {
        "id": "qN5YT0JaTBhI",
        "outputId": "6f3e9daf-7f21-4af7-db98-286369f77166",
        "colab": {
          "base_uri": "https://localhost:8080/"
        }
      },
      "outputs": [
        {
          "output_type": "execute_result",
          "data": {
            "text/plain": [
              "[tensor([[-0.2598,  1.5730,  0.2554,  ...,  0.8063, -0.7266,  0.1005],\n",
              "         [-0.5787, -1.6099, -1.4226,  ...,  0.9500,  0.1828,  0.7458],\n",
              "         [-0.2598,  1.5730,  0.2554,  ...,  0.8063, -0.7266,  0.1005],\n",
              "         ...,\n",
              "         [ 1.8266,  0.4458, -1.0006,  ...,  0.4704, -0.5985,  0.9459],\n",
              "         [-0.5787, -1.6099, -1.4226,  ...,  0.9500,  0.1828,  0.7458],\n",
              "         [-0.5787, -1.6099, -1.4226,  ...,  0.9500,  0.1828,  0.7458]],\n",
              "        grad_fn=<EmbeddingBackward0>), tensor([[-0.6831,  1.9243,  0.6767],\n",
              "         [-0.6831,  1.9243,  0.6767],\n",
              "         [-0.6831,  1.9243,  0.6767],\n",
              "         ...,\n",
              "         [-0.6831,  1.9243,  0.6767],\n",
              "         [-0.6831,  1.9243,  0.6767],\n",
              "         [-0.6831,  1.9243,  0.6767]], grad_fn=<EmbeddingBackward0>), tensor([[1.6597],\n",
              "         [1.6597],\n",
              "         [1.6597],\n",
              "         ...,\n",
              "         [1.6597],\n",
              "         [1.6597],\n",
              "         [1.6597]], grad_fn=<EmbeddingBackward0>), tensor([[ 1.9281, -1.8516],\n",
              "         [ 1.9281, -1.8516],\n",
              "         [-1.5136, -0.7595],\n",
              "         ...,\n",
              "         [ 1.9281, -1.8516],\n",
              "         [ 1.9281, -1.8516],\n",
              "         [ 1.9281, -1.8516]], grad_fn=<EmbeddingBackward0>)]"
            ]
          },
          "metadata": {},
          "execution_count": 51
        }
      ],
      "source": [
        "embedding_val"
      ]
    },
    {
      "cell_type": "code",
      "execution_count": 52,
      "metadata": {
        "id": "MyC4OinXTBhI",
        "outputId": "e709d714-f17f-4234-f0df-f3b984b2c5b1",
        "colab": {
          "base_uri": "https://localhost:8080/"
        }
      },
      "outputs": [
        {
          "output_type": "execute_result",
          "data": {
            "text/plain": [
              "tensor([[-0.2598,  1.5730,  0.2554,  ...,  1.6597,  1.9281, -1.8516],\n",
              "        [-0.5787, -1.6099, -1.4226,  ...,  1.6597,  1.9281, -1.8516],\n",
              "        [-0.2598,  1.5730,  0.2554,  ...,  1.6597, -1.5136, -0.7595],\n",
              "        ...,\n",
              "        [ 1.8266,  0.4458, -1.0006,  ...,  1.6597,  1.9281, -1.8516],\n",
              "        [-0.5787, -1.6099, -1.4226,  ...,  1.6597,  1.9281, -1.8516],\n",
              "        [-0.5787, -1.6099, -1.4226,  ...,  1.6597,  1.9281, -1.8516]],\n",
              "       grad_fn=<CatBackward0>)"
            ]
          },
          "metadata": {},
          "execution_count": 52
        }
      ],
      "source": [
        "z = torch.cat(embedding_val, 1)\n",
        "z"
      ]
    },
    {
      "cell_type": "code",
      "execution_count": 53,
      "metadata": {
        "id": "fwxEs2YITBhJ"
      },
      "outputs": [],
      "source": [
        "#### Implement dropupout\n",
        "droput=nn.Dropout(.4)\n"
      ]
    },
    {
      "cell_type": "code",
      "execution_count": 54,
      "metadata": {
        "id": "O_y7c_xCTBhJ",
        "outputId": "9fa5d9a8-9946-4ff3-c627-15fc6ba919c8",
        "colab": {
          "base_uri": "https://localhost:8080/"
        }
      },
      "outputs": [
        {
          "output_type": "execute_result",
          "data": {
            "text/plain": [
              "tensor([[-0.0000,  2.6217,  0.0000,  ...,  2.7662,  0.0000, -3.0859],\n",
              "        [-0.9645, -2.6832, -2.3710,  ...,  2.7662,  0.0000, -0.0000],\n",
              "        [-0.4330,  2.6217,  0.4257,  ...,  2.7662, -0.0000, -1.2658],\n",
              "        ...,\n",
              "        [ 3.0444,  0.7429, -1.6677,  ...,  0.0000,  0.0000, -0.0000],\n",
              "        [-0.0000, -2.6832, -0.0000,  ...,  0.0000,  0.0000, -0.0000],\n",
              "        [-0.0000, -2.6832, -0.0000,  ...,  2.7662,  0.0000, -3.0859]],\n",
              "       grad_fn=<MulBackward0>)"
            ]
          },
          "metadata": {},
          "execution_count": 54
        }
      ],
      "source": [
        "final_embed=droput(z)\n",
        "final_embed\n"
      ]
    },
    {
      "cell_type": "code",
      "execution_count": 55,
      "metadata": {
        "id": "lviZJvnNTBhJ"
      },
      "outputs": [],
      "source": [
        "##### Create a Feed Forward Neural Network\n",
        "import torch\n",
        "import torch.nn as nn\n",
        "import torch.nn.functional as F\n",
        "class FeedForwardNN(nn.Module):\n",
        "\n",
        "    def __init__(self, embedding_dim, n_cont, out_sz, layers, p=0.5):\n",
        "        super().__init__()\n",
        "        self.embeds = nn.ModuleList([nn.Embedding(inp,out) for inp,out in embedding_dim])\n",
        "        self.emb_drop = nn.Dropout(p)\n",
        "        self.bn_cont = nn.BatchNorm1d(n_cont)\n",
        "        \n",
        "        layerlist = []\n",
        "        n_emb = sum((out for inp,out in embedding_dim))\n",
        "        n_in = n_emb + n_cont\n",
        "        \n",
        "        for i in layers:\n",
        "            layerlist.append(nn.Linear(n_in,i)) \n",
        "            layerlist.append(nn.ReLU(inplace=True))\n",
        "            layerlist.append(nn.BatchNorm1d(i))\n",
        "            layerlist.append(nn.Dropout(p))\n",
        "            n_in = i\n",
        "        layerlist.append(nn.Linear(layers[-1],out_sz))\n",
        "            \n",
        "        self.layers = nn.Sequential(*layerlist)\n",
        "    \n",
        "    def forward(self, x_cat, x_cont):\n",
        "        embeddings = []\n",
        "        for i,e in enumerate(self.embeds):\n",
        "            embeddings.append(e(x_cat[:,i]))\n",
        "        x = torch.cat(embeddings, 1)\n",
        "        x = self.emb_drop(x)\n",
        "        \n",
        "        x_cont = self.bn_cont(x_cont)\n",
        "        x = torch.cat([x, x_cont], 1)\n",
        "        x = self.layers(x)\n",
        "        return x"
      ]
    },
    {
      "cell_type": "code",
      "execution_count": 56,
      "metadata": {
        "id": "q27iwOrRTBhM",
        "outputId": "96af0f21-58bf-4f3e-80ee-d58c861e7423",
        "colab": {
          "base_uri": "https://localhost:8080/"
        }
      },
      "outputs": [
        {
          "output_type": "execute_result",
          "data": {
            "text/plain": [
              "5"
            ]
          },
          "metadata": {},
          "execution_count": 56
        }
      ],
      "source": [
        "len(cont_features)"
      ]
    },
    {
      "cell_type": "code",
      "execution_count": 57,
      "metadata": {
        "id": "iQkVW68iTBhN"
      },
      "outputs": [],
      "source": [
        "torch.manual_seed(100)\n",
        "model=FeedForwardNN(embedding_dim,len(cont_features),1,[100,50],p=0.4)"
      ]
    },
    {
      "cell_type": "code",
      "execution_count": 57,
      "metadata": {
        "id": "X9xoMkPXTBhN"
      },
      "outputs": [],
      "source": []
    },
    {
      "cell_type": "code",
      "execution_count": 58,
      "metadata": {
        "id": "rZm0kaNwTBhN",
        "outputId": "c859c0ae-256c-40dc-fc6a-d207c2e26375",
        "colab": {
          "base_uri": "https://localhost:8080/"
        }
      },
      "outputs": [
        {
          "output_type": "execute_result",
          "data": {
            "text/plain": [
              "FeedForwardNN(\n",
              "  (embeds): ModuleList(\n",
              "    (0): Embedding(15, 8)\n",
              "    (1): Embedding(5, 3)\n",
              "    (2): Embedding(2, 1)\n",
              "    (3): Embedding(4, 2)\n",
              "  )\n",
              "  (emb_drop): Dropout(p=0.4, inplace=False)\n",
              "  (bn_cont): BatchNorm1d(5, eps=1e-05, momentum=0.1, affine=True, track_running_stats=True)\n",
              "  (layers): Sequential(\n",
              "    (0): Linear(in_features=19, out_features=100, bias=True)\n",
              "    (1): ReLU(inplace=True)\n",
              "    (2): BatchNorm1d(100, eps=1e-05, momentum=0.1, affine=True, track_running_stats=True)\n",
              "    (3): Dropout(p=0.4, inplace=False)\n",
              "    (4): Linear(in_features=100, out_features=50, bias=True)\n",
              "    (5): ReLU(inplace=True)\n",
              "    (6): BatchNorm1d(50, eps=1e-05, momentum=0.1, affine=True, track_running_stats=True)\n",
              "    (7): Dropout(p=0.4, inplace=False)\n",
              "    (8): Linear(in_features=50, out_features=1, bias=True)\n",
              "  )\n",
              ")"
            ]
          },
          "metadata": {},
          "execution_count": 58
        }
      ],
      "source": [
        "model"
      ]
    },
    {
      "cell_type": "markdown",
      "metadata": {
        "id": "voVF703cTBhO"
      },
      "source": [
        "#### Define Loss And Optimizer"
      ]
    },
    {
      "cell_type": "code",
      "execution_count": 59,
      "metadata": {
        "id": "guSIKDnCTBhO"
      },
      "outputs": [],
      "source": [
        "loss_function=nn.MSELoss()\n",
        "optimizer=torch.optim.Adam(model.parameters(),lr=0.01)"
      ]
    },
    {
      "cell_type": "code",
      "execution_count": 60,
      "metadata": {
        "id": "mXQjoDdBTBhO",
        "outputId": "99d02302-8e5b-47db-c9c6-c31bbea3ce40",
        "colab": {
          "base_uri": "https://localhost:8080/"
        }
      },
      "outputs": [
        {
          "output_type": "execute_result",
          "data": {
            "text/plain": [
              "(1201, 10)"
            ]
          },
          "metadata": {},
          "execution_count": 60
        }
      ],
      "source": [
        "df.shape"
      ]
    },
    {
      "cell_type": "code",
      "execution_count": 61,
      "metadata": {
        "id": "LYDhlNpeTBhP",
        "outputId": "d66da34b-ce2e-4c26-fbfb-350be917f258",
        "colab": {
          "base_uri": "https://localhost:8080/"
        }
      },
      "outputs": [
        {
          "output_type": "execute_result",
          "data": {
            "text/plain": [
              "tensor([[   65.,  8450.,   856.,   854.,    20.],\n",
              "        [   80.,  9600.,  1262.,     0.,    47.],\n",
              "        [   68., 11250.,   920.,   866.,    22.],\n",
              "        ...,\n",
              "        [   66.,  9042.,  1188.,  1152.,    82.],\n",
              "        [   68.,  9717.,  1078.,     0.,    73.],\n",
              "        [   75.,  9937.,  1256.,     0.,    58.]])"
            ]
          },
          "metadata": {},
          "execution_count": 61
        }
      ],
      "source": [
        "cont_values"
      ]
    },
    {
      "cell_type": "code",
      "execution_count": 62,
      "metadata": {
        "id": "ZsKiPSbKTBhP",
        "outputId": "285611a7-76d6-4c30-d9ac-67bc1c749084",
        "colab": {
          "base_uri": "https://localhost:8080/"
        }
      },
      "outputs": [
        {
          "output_type": "execute_result",
          "data": {
            "text/plain": [
              "torch.Size([1201, 5])"
            ]
          },
          "metadata": {},
          "execution_count": 62
        }
      ],
      "source": [
        "cont_values.shape"
      ]
    },
    {
      "cell_type": "code",
      "execution_count": 63,
      "metadata": {
        "id": "pp6F5K5NTBhP"
      },
      "outputs": [],
      "source": [
        "batch_size=1200\n",
        "test_size=int(batch_size*0.15)\n",
        "train_categorical=cat_features[:batch_size-test_size]\n",
        "test_categorical=cat_features[batch_size-test_size:batch_size]\n",
        "train_cont=cont_values[:batch_size-test_size]\n",
        "test_cont=cont_values[batch_size-test_size:batch_size]\n",
        "y_train=y[:batch_size-test_size]\n",
        "y_test=y[batch_size-test_size:batch_size]"
      ]
    },
    {
      "cell_type": "code",
      "execution_count": 64,
      "metadata": {
        "id": "wfGB_9hBTBhQ",
        "outputId": "a6e30683-7ba7-4ba9-f069-9523967bb1aa",
        "colab": {
          "base_uri": "https://localhost:8080/"
        }
      },
      "outputs": [
        {
          "output_type": "execute_result",
          "data": {
            "text/plain": [
              "(1020, 180, 1020, 180, 1020, 180)"
            ]
          },
          "metadata": {},
          "execution_count": 64
        }
      ],
      "source": [
        "len(train_categorical),len(test_categorical),len(train_cont),len(test_cont),len(y_train),len(y_test)"
      ]
    },
    {
      "cell_type": "code",
      "execution_count": 65,
      "metadata": {
        "id": "r7feFecHTBhQ",
        "outputId": "98d23d0e-f0dc-460c-ee86-6c5834ace304",
        "colab": {
          "base_uri": "https://localhost:8080/"
        }
      },
      "outputs": [
        {
          "output_type": "stream",
          "name": "stdout",
          "text": [
            "Epoch number: 1 and the loss : 200496.75\n",
            "Epoch number: 11 and the loss : 200493.46875\n",
            "Epoch number: 21 and the loss : 200489.140625\n",
            "Epoch number: 31 and the loss : 200482.640625\n",
            "Epoch number: 41 and the loss : 200473.25\n",
            "Epoch number: 51 and the loss : 200461.375\n",
            "Epoch number: 61 and the loss : 200446.4375\n",
            "Epoch number: 71 and the loss : 200429.421875\n",
            "Epoch number: 81 and the loss : 200407.953125\n",
            "Epoch number: 91 and the loss : 200383.421875\n",
            "Epoch number: 101 and the loss : 200355.234375\n",
            "Epoch number: 111 and the loss : 200322.109375\n",
            "Epoch number: 121 and the loss : 200291.578125\n",
            "Epoch number: 131 and the loss : 200252.0\n",
            "Epoch number: 141 and the loss : 200206.296875\n",
            "Epoch number: 151 and the loss : 200162.9375\n",
            "Epoch number: 161 and the loss : 200112.03125\n",
            "Epoch number: 171 and the loss : 200059.4375\n",
            "Epoch number: 181 and the loss : 200006.109375\n",
            "Epoch number: 191 and the loss : 199946.59375\n",
            "Epoch number: 201 and the loss : 199881.75\n",
            "Epoch number: 211 and the loss : 199816.125\n",
            "Epoch number: 221 and the loss : 199738.1875\n",
            "Epoch number: 231 and the loss : 199669.921875\n",
            "Epoch number: 241 and the loss : 199589.5\n",
            "Epoch number: 251 and the loss : 199507.015625\n",
            "Epoch number: 261 and the loss : 199410.84375\n",
            "Epoch number: 271 and the loss : 199325.046875\n",
            "Epoch number: 281 and the loss : 199244.84375\n",
            "Epoch number: 291 and the loss : 199140.203125\n",
            "Epoch number: 301 and the loss : 199029.171875\n",
            "Epoch number: 311 and the loss : 198931.8125\n",
            "Epoch number: 321 and the loss : 198845.8125\n",
            "Epoch number: 331 and the loss : 198697.546875\n",
            "Epoch number: 341 and the loss : 198600.84375\n",
            "Epoch number: 351 and the loss : 198489.65625\n",
            "Epoch number: 361 and the loss : 198386.625\n",
            "Epoch number: 371 and the loss : 198242.03125\n",
            "Epoch number: 381 and the loss : 198102.625\n",
            "Epoch number: 391 and the loss : 198013.453125\n",
            "Epoch number: 401 and the loss : 197881.875\n",
            "Epoch number: 411 and the loss : 197730.8125\n",
            "Epoch number: 421 and the loss : 197593.609375\n",
            "Epoch number: 431 and the loss : 197419.703125\n",
            "Epoch number: 441 and the loss : 197283.890625\n",
            "Epoch number: 451 and the loss : 197171.5625\n",
            "Epoch number: 461 and the loss : 196957.890625\n",
            "Epoch number: 471 and the loss : 196882.96875\n",
            "Epoch number: 481 and the loss : 196721.421875\n",
            "Epoch number: 491 and the loss : 196522.875\n",
            "Epoch number: 501 and the loss : 196460.375\n",
            "Epoch number: 511 and the loss : 196216.203125\n",
            "Epoch number: 521 and the loss : 196039.828125\n",
            "Epoch number: 531 and the loss : 195844.46875\n",
            "Epoch number: 541 and the loss : 195663.328125\n",
            "Epoch number: 551 and the loss : 195460.8125\n",
            "Epoch number: 561 and the loss : 195287.03125\n",
            "Epoch number: 571 and the loss : 195076.6875\n",
            "Epoch number: 581 and the loss : 194844.984375\n",
            "Epoch number: 591 and the loss : 194699.671875\n",
            "Epoch number: 601 and the loss : 194530.421875\n",
            "Epoch number: 611 and the loss : 194277.40625\n",
            "Epoch number: 621 and the loss : 194119.40625\n",
            "Epoch number: 631 and the loss : 193834.828125\n",
            "Epoch number: 641 and the loss : 193690.75\n",
            "Epoch number: 651 and the loss : 193479.09375\n",
            "Epoch number: 661 and the loss : 193221.515625\n",
            "Epoch number: 671 and the loss : 193061.46875\n",
            "Epoch number: 681 and the loss : 192777.984375\n",
            "Epoch number: 691 and the loss : 192498.078125\n",
            "Epoch number: 701 and the loss : 192295.328125\n",
            "Epoch number: 711 and the loss : 192211.21875\n",
            "Epoch number: 721 and the loss : 192017.328125\n",
            "Epoch number: 731 and the loss : 191639.21875\n",
            "Epoch number: 741 and the loss : 191439.734375\n",
            "Epoch number: 751 and the loss : 191200.015625\n",
            "Epoch number: 761 and the loss : 190990.359375\n",
            "Epoch number: 771 and the loss : 190708.828125\n",
            "Epoch number: 781 and the loss : 190470.5\n",
            "Epoch number: 791 and the loss : 190300.078125\n",
            "Epoch number: 801 and the loss : 189869.734375\n",
            "Epoch number: 811 and the loss : 189754.5\n",
            "Epoch number: 821 and the loss : 189723.953125\n",
            "Epoch number: 831 and the loss : 189326.265625\n",
            "Epoch number: 841 and the loss : 188956.921875\n",
            "Epoch number: 851 and the loss : 188865.796875\n",
            "Epoch number: 861 and the loss : 188402.296875\n",
            "Epoch number: 871 and the loss : 188195.34375\n",
            "Epoch number: 881 and the loss : 187908.015625\n",
            "Epoch number: 891 and the loss : 187470.734375\n",
            "Epoch number: 901 and the loss : 187460.78125\n",
            "Epoch number: 911 and the loss : 187247.71875\n",
            "Epoch number: 921 and the loss : 186821.5625\n",
            "Epoch number: 931 and the loss : 186365.484375\n",
            "Epoch number: 941 and the loss : 186141.09375\n",
            "Epoch number: 951 and the loss : 185971.15625\n",
            "Epoch number: 961 and the loss : 185510.171875\n",
            "Epoch number: 971 and the loss : 185299.875\n",
            "Epoch number: 981 and the loss : 185081.421875\n",
            "Epoch number: 991 and the loss : 184784.4375\n",
            "Epoch number: 1001 and the loss : 184315.265625\n",
            "Epoch number: 1011 and the loss : 184000.671875\n",
            "Epoch number: 1021 and the loss : 183795.515625\n",
            "Epoch number: 1031 and the loss : 183373.46875\n",
            "Epoch number: 1041 and the loss : 183218.09375\n",
            "Epoch number: 1051 and the loss : 182910.90625\n",
            "Epoch number: 1061 and the loss : 182567.375\n",
            "Epoch number: 1071 and the loss : 182280.140625\n",
            "Epoch number: 1081 and the loss : 181909.59375\n",
            "Epoch number: 1091 and the loss : 181513.921875\n",
            "Epoch number: 1101 and the loss : 181482.640625\n",
            "Epoch number: 1111 and the loss : 180766.171875\n",
            "Epoch number: 1121 and the loss : 180475.265625\n",
            "Epoch number: 1131 and the loss : 180424.46875\n",
            "Epoch number: 1141 and the loss : 179946.125\n",
            "Epoch number: 1151 and the loss : 179503.109375\n",
            "Epoch number: 1161 and the loss : 179368.796875\n",
            "Epoch number: 1171 and the loss : 178915.0625\n",
            "Epoch number: 1181 and the loss : 178539.96875\n",
            "Epoch number: 1191 and the loss : 178080.984375\n",
            "Epoch number: 1201 and the loss : 178088.71875\n",
            "Epoch number: 1211 and the loss : 177449.375\n",
            "Epoch number: 1221 and the loss : 177506.03125\n",
            "Epoch number: 1231 and the loss : 176584.328125\n",
            "Epoch number: 1241 and the loss : 176331.828125\n",
            "Epoch number: 1251 and the loss : 175531.546875\n",
            "Epoch number: 1261 and the loss : 175537.515625\n",
            "Epoch number: 1271 and the loss : 175214.390625\n",
            "Epoch number: 1281 and the loss : 174937.4375\n",
            "Epoch number: 1291 and the loss : 174528.3125\n",
            "Epoch number: 1301 and the loss : 174192.609375\n",
            "Epoch number: 1311 and the loss : 173690.046875\n",
            "Epoch number: 1321 and the loss : 173103.625\n",
            "Epoch number: 1331 and the loss : 173403.515625\n",
            "Epoch number: 1341 and the loss : 172607.90625\n",
            "Epoch number: 1351 and the loss : 172258.546875\n",
            "Epoch number: 1361 and the loss : 172003.828125\n",
            "Epoch number: 1371 and the loss : 171847.390625\n",
            "Epoch number: 1381 and the loss : 171314.1875\n",
            "Epoch number: 1391 and the loss : 170368.640625\n",
            "Epoch number: 1401 and the loss : 170498.0\n",
            "Epoch number: 1411 and the loss : 169684.8125\n",
            "Epoch number: 1421 and the loss : 170159.921875\n",
            "Epoch number: 1431 and the loss : 169470.171875\n",
            "Epoch number: 1441 and the loss : 168671.328125\n",
            "Epoch number: 1451 and the loss : 168590.90625\n",
            "Epoch number: 1461 and the loss : 167920.53125\n",
            "Epoch number: 1471 and the loss : 167960.921875\n",
            "Epoch number: 1481 and the loss : 167326.140625\n",
            "Epoch number: 1491 and the loss : 166709.765625\n",
            "Epoch number: 1501 and the loss : 166294.25\n",
            "Epoch number: 1511 and the loss : 165548.046875\n",
            "Epoch number: 1521 and the loss : 165832.515625\n",
            "Epoch number: 1531 and the loss : 165308.671875\n",
            "Epoch number: 1541 and the loss : 164566.265625\n",
            "Epoch number: 1551 and the loss : 164533.375\n",
            "Epoch number: 1561 and the loss : 163695.859375\n",
            "Epoch number: 1571 and the loss : 163428.984375\n",
            "Epoch number: 1581 and the loss : 163090.625\n",
            "Epoch number: 1591 and the loss : 162926.171875\n",
            "Epoch number: 1601 and the loss : 162386.546875\n",
            "Epoch number: 1611 and the loss : 161676.984375\n",
            "Epoch number: 1621 and the loss : 160792.0625\n",
            "Epoch number: 1631 and the loss : 161151.1875\n",
            "Epoch number: 1641 and the loss : 160990.171875\n",
            "Epoch number: 1651 and the loss : 160176.53125\n",
            "Epoch number: 1661 and the loss : 160151.1875\n",
            "Epoch number: 1671 and the loss : 159136.5625\n",
            "Epoch number: 1681 and the loss : 158414.4375\n",
            "Epoch number: 1691 and the loss : 158369.03125\n",
            "Epoch number: 1701 and the loss : 157682.109375\n",
            "Epoch number: 1711 and the loss : 157320.1875\n",
            "Epoch number: 1721 and the loss : 157092.0\n",
            "Epoch number: 1731 and the loss : 156690.390625\n",
            "Epoch number: 1741 and the loss : 156303.59375\n",
            "Epoch number: 1751 and the loss : 156100.5625\n",
            "Epoch number: 1761 and the loss : 154665.71875\n",
            "Epoch number: 1771 and the loss : 154329.734375\n",
            "Epoch number: 1781 and the loss : 154117.90625\n",
            "Epoch number: 1791 and the loss : 153764.375\n",
            "Epoch number: 1801 and the loss : 153768.71875\n",
            "Epoch number: 1811 and the loss : 152886.59375\n",
            "Epoch number: 1821 and the loss : 152352.203125\n",
            "Epoch number: 1831 and the loss : 152418.9375\n",
            "Epoch number: 1841 and the loss : 151641.125\n",
            "Epoch number: 1851 and the loss : 150646.859375\n",
            "Epoch number: 1861 and the loss : 150747.078125\n",
            "Epoch number: 1871 and the loss : 150100.421875\n",
            "Epoch number: 1881 and the loss : 149269.4375\n",
            "Epoch number: 1891 and the loss : 148339.75\n",
            "Epoch number: 1901 and the loss : 148702.515625\n",
            "Epoch number: 1911 and the loss : 148957.4375\n",
            "Epoch number: 1921 and the loss : 147735.5625\n",
            "Epoch number: 1931 and the loss : 147312.703125\n",
            "Epoch number: 1941 and the loss : 146631.109375\n",
            "Epoch number: 1951 and the loss : 146592.296875\n",
            "Epoch number: 1961 and the loss : 145972.953125\n",
            "Epoch number: 1971 and the loss : 145559.890625\n",
            "Epoch number: 1981 and the loss : 145682.78125\n",
            "Epoch number: 1991 and the loss : 145327.828125\n",
            "Epoch number: 2001 and the loss : 144244.796875\n",
            "Epoch number: 2011 and the loss : 142975.640625\n",
            "Epoch number: 2021 and the loss : 142971.921875\n",
            "Epoch number: 2031 and the loss : 143581.953125\n",
            "Epoch number: 2041 and the loss : 142046.640625\n",
            "Epoch number: 2051 and the loss : 141662.453125\n",
            "Epoch number: 2061 and the loss : 141039.0\n",
            "Epoch number: 2071 and the loss : 141038.25\n",
            "Epoch number: 2081 and the loss : 139678.546875\n",
            "Epoch number: 2091 and the loss : 139818.296875\n",
            "Epoch number: 2101 and the loss : 139419.625\n",
            "Epoch number: 2111 and the loss : 138816.40625\n",
            "Epoch number: 2121 and the loss : 138702.78125\n",
            "Epoch number: 2131 and the loss : 138013.40625\n",
            "Epoch number: 2141 and the loss : 137193.65625\n",
            "Epoch number: 2151 and the loss : 136590.125\n",
            "Epoch number: 2161 and the loss : 136498.328125\n",
            "Epoch number: 2171 and the loss : 136563.765625\n",
            "Epoch number: 2181 and the loss : 136091.09375\n",
            "Epoch number: 2191 and the loss : 134942.359375\n",
            "Epoch number: 2201 and the loss : 134243.4375\n",
            "Epoch number: 2211 and the loss : 133707.203125\n",
            "Epoch number: 2221 and the loss : 132753.46875\n",
            "Epoch number: 2231 and the loss : 132743.1875\n",
            "Epoch number: 2241 and the loss : 131430.828125\n",
            "Epoch number: 2251 and the loss : 131726.671875\n",
            "Epoch number: 2261 and the loss : 130338.671875\n",
            "Epoch number: 2271 and the loss : 130340.2421875\n",
            "Epoch number: 2281 and the loss : 130238.125\n",
            "Epoch number: 2291 and the loss : 129422.375\n",
            "Epoch number: 2301 and the loss : 128962.078125\n",
            "Epoch number: 2311 and the loss : 129029.296875\n",
            "Epoch number: 2321 and the loss : 128474.3046875\n",
            "Epoch number: 2331 and the loss : 128627.8828125\n",
            "Epoch number: 2341 and the loss : 127526.46875\n",
            "Epoch number: 2351 and the loss : 126218.453125\n",
            "Epoch number: 2361 and the loss : 126309.2734375\n",
            "Epoch number: 2371 and the loss : 125763.0\n",
            "Epoch number: 2381 and the loss : 124879.5859375\n",
            "Epoch number: 2391 and the loss : 124785.8671875\n",
            "Epoch number: 2401 and the loss : 124344.0859375\n",
            "Epoch number: 2411 and the loss : 124021.5625\n",
            "Epoch number: 2421 and the loss : 123388.0703125\n",
            "Epoch number: 2431 and the loss : 122444.8203125\n",
            "Epoch number: 2441 and the loss : 122470.1796875\n",
            "Epoch number: 2451 and the loss : 121478.4609375\n",
            "Epoch number: 2461 and the loss : 121318.921875\n",
            "Epoch number: 2471 and the loss : 120692.2265625\n",
            "Epoch number: 2481 and the loss : 120575.9296875\n",
            "Epoch number: 2491 and the loss : 120540.59375\n",
            "Epoch number: 2501 and the loss : 119732.0390625\n",
            "Epoch number: 2511 and the loss : 118720.8828125\n",
            "Epoch number: 2521 and the loss : 117737.84375\n",
            "Epoch number: 2531 and the loss : 118269.2109375\n",
            "Epoch number: 2541 and the loss : 117494.9375\n",
            "Epoch number: 2551 and the loss : 117035.0390625\n",
            "Epoch number: 2561 and the loss : 116534.1875\n",
            "Epoch number: 2571 and the loss : 116647.140625\n",
            "Epoch number: 2581 and the loss : 115965.5546875\n",
            "Epoch number: 2591 and the loss : 115646.203125\n",
            "Epoch number: 2601 and the loss : 114507.59375\n",
            "Epoch number: 2611 and the loss : 114392.3359375\n",
            "Epoch number: 2621 and the loss : 114619.4765625\n",
            "Epoch number: 2631 and the loss : 112791.3671875\n",
            "Epoch number: 2641 and the loss : 112350.15625\n",
            "Epoch number: 2651 and the loss : 112102.296875\n",
            "Epoch number: 2661 and the loss : 111298.1875\n",
            "Epoch number: 2671 and the loss : 110751.1171875\n",
            "Epoch number: 2681 and the loss : 110205.3515625\n",
            "Epoch number: 2691 and the loss : 109528.7734375\n",
            "Epoch number: 2701 and the loss : 109764.7421875\n",
            "Epoch number: 2711 and the loss : 109186.5390625\n",
            "Epoch number: 2721 and the loss : 108805.53125\n",
            "Epoch number: 2731 and the loss : 108374.46875\n",
            "Epoch number: 2741 and the loss : 107079.0546875\n",
            "Epoch number: 2751 and the loss : 105873.015625\n",
            "Epoch number: 2761 and the loss : 106169.390625\n",
            "Epoch number: 2771 and the loss : 106884.0859375\n",
            "Epoch number: 2781 and the loss : 105368.84375\n",
            "Epoch number: 2791 and the loss : 104504.03125\n",
            "Epoch number: 2801 and the loss : 103542.0546875\n",
            "Epoch number: 2811 and the loss : 103981.4296875\n",
            "Epoch number: 2821 and the loss : 102526.2265625\n",
            "Epoch number: 2831 and the loss : 102634.8046875\n",
            "Epoch number: 2841 and the loss : 102363.2421875\n",
            "Epoch number: 2851 and the loss : 101322.640625\n",
            "Epoch number: 2861 and the loss : 101890.640625\n",
            "Epoch number: 2871 and the loss : 100780.5390625\n",
            "Epoch number: 2881 and the loss : 100956.453125\n",
            "Epoch number: 2891 and the loss : 100657.9140625\n",
            "Epoch number: 2901 and the loss : 98709.8359375\n",
            "Epoch number: 2911 and the loss : 98114.2734375\n",
            "Epoch number: 2921 and the loss : 98133.328125\n",
            "Epoch number: 2931 and the loss : 99021.296875\n",
            "Epoch number: 2941 and the loss : 96998.09375\n",
            "Epoch number: 2951 and the loss : 97389.0703125\n",
            "Epoch number: 2961 and the loss : 96401.5625\n",
            "Epoch number: 2971 and the loss : 95215.1328125\n",
            "Epoch number: 2981 and the loss : 95035.9375\n",
            "Epoch number: 2991 and the loss : 94167.5\n",
            "Epoch number: 3001 and the loss : 93752.9140625\n",
            "Epoch number: 3011 and the loss : 94139.3046875\n",
            "Epoch number: 3021 and the loss : 93036.4453125\n",
            "Epoch number: 3031 and the loss : 92725.1640625\n",
            "Epoch number: 3041 and the loss : 92517.8984375\n",
            "Epoch number: 3051 and the loss : 91427.7890625\n",
            "Epoch number: 3061 and the loss : 91910.09375\n",
            "Epoch number: 3071 and the loss : 91020.78125\n",
            "Epoch number: 3081 and the loss : 90924.7421875\n",
            "Epoch number: 3091 and the loss : 89710.109375\n",
            "Epoch number: 3101 and the loss : 88915.9140625\n",
            "Epoch number: 3111 and the loss : 91644.421875\n",
            "Epoch number: 3121 and the loss : 89041.890625\n",
            "Epoch number: 3131 and the loss : 87955.1953125\n",
            "Epoch number: 3141 and the loss : 87899.5078125\n",
            "Epoch number: 3151 and the loss : 87409.5390625\n",
            "Epoch number: 3161 and the loss : 86450.3203125\n",
            "Epoch number: 3171 and the loss : 86963.6796875\n",
            "Epoch number: 3181 and the loss : 85556.765625\n",
            "Epoch number: 3191 and the loss : 85227.8515625\n",
            "Epoch number: 3201 and the loss : 84512.09375\n",
            "Epoch number: 3211 and the loss : 84056.859375\n",
            "Epoch number: 3221 and the loss : 83027.359375\n",
            "Epoch number: 3231 and the loss : 84110.59375\n",
            "Epoch number: 3241 and the loss : 82331.4765625\n",
            "Epoch number: 3251 and the loss : 81438.40625\n",
            "Epoch number: 3261 and the loss : 81787.2890625\n",
            "Epoch number: 3271 and the loss : 81854.59375\n",
            "Epoch number: 3281 and the loss : 81183.484375\n",
            "Epoch number: 3291 and the loss : 80554.265625\n",
            "Epoch number: 3301 and the loss : 79858.4375\n",
            "Epoch number: 3311 and the loss : 79294.390625\n",
            "Epoch number: 3321 and the loss : 79336.3046875\n",
            "Epoch number: 3331 and the loss : 78152.8125\n",
            "Epoch number: 3341 and the loss : 77479.78125\n",
            "Epoch number: 3351 and the loss : 77307.8125\n",
            "Epoch number: 3361 and the loss : 76897.7421875\n",
            "Epoch number: 3371 and the loss : 76021.7734375\n",
            "Epoch number: 3381 and the loss : 76456.4296875\n",
            "Epoch number: 3391 and the loss : 74648.96875\n",
            "Epoch number: 3401 and the loss : 74454.7890625\n",
            "Epoch number: 3411 and the loss : 73934.703125\n",
            "Epoch number: 3421 and the loss : 73442.734375\n",
            "Epoch number: 3431 and the loss : 73379.1171875\n",
            "Epoch number: 3441 and the loss : 72445.765625\n",
            "Epoch number: 3451 and the loss : 72597.21875\n",
            "Epoch number: 3461 and the loss : 72403.28125\n",
            "Epoch number: 3471 and the loss : 71284.4296875\n",
            "Epoch number: 3481 and the loss : 73936.328125\n",
            "Epoch number: 3491 and the loss : 70548.8515625\n",
            "Epoch number: 3501 and the loss : 68766.0546875\n",
            "Epoch number: 3511 and the loss : 69438.8828125\n",
            "Epoch number: 3521 and the loss : 68951.5390625\n",
            "Epoch number: 3531 and the loss : 68338.2734375\n",
            "Epoch number: 3541 and the loss : 67996.984375\n",
            "Epoch number: 3551 and the loss : 68526.2421875\n",
            "Epoch number: 3561 and the loss : 66277.9140625\n",
            "Epoch number: 3571 and the loss : 66326.5625\n",
            "Epoch number: 3581 and the loss : 66256.515625\n",
            "Epoch number: 3591 and the loss : 66635.5625\n",
            "Epoch number: 3601 and the loss : 64759.16796875\n",
            "Epoch number: 3611 and the loss : 67419.4453125\n",
            "Epoch number: 3621 and the loss : 65278.625\n",
            "Epoch number: 3631 and the loss : 62865.34375\n",
            "Epoch number: 3641 and the loss : 64145.7890625\n",
            "Epoch number: 3651 and the loss : 62259.2421875\n",
            "Epoch number: 3661 and the loss : 65656.9296875\n",
            "Epoch number: 3671 and the loss : 61266.7109375\n",
            "Epoch number: 3681 and the loss : 62095.26171875\n",
            "Epoch number: 3691 and the loss : 61122.94140625\n",
            "Epoch number: 3701 and the loss : 60811.6953125\n",
            "Epoch number: 3711 and the loss : 61500.3984375\n",
            "Epoch number: 3721 and the loss : 59693.32421875\n",
            "Epoch number: 3731 and the loss : 57650.37890625\n",
            "Epoch number: 3741 and the loss : 58325.1171875\n",
            "Epoch number: 3751 and the loss : 58925.8359375\n",
            "Epoch number: 3761 and the loss : 58664.1640625\n",
            "Epoch number: 3771 and the loss : 57179.2109375\n",
            "Epoch number: 3781 and the loss : 56003.27734375\n",
            "Epoch number: 3791 and the loss : 57434.55859375\n",
            "Epoch number: 3801 and the loss : 55960.6484375\n",
            "Epoch number: 3811 and the loss : 59273.80859375\n",
            "Epoch number: 3821 and the loss : 56875.0390625\n",
            "Epoch number: 3831 and the loss : 54500.28515625\n",
            "Epoch number: 3841 and the loss : 53336.6875\n",
            "Epoch number: 3851 and the loss : 55180.8203125\n",
            "Epoch number: 3861 and the loss : 54388.48046875\n",
            "Epoch number: 3871 and the loss : 52155.78125\n",
            "Epoch number: 3881 and the loss : 51628.63671875\n",
            "Epoch number: 3891 and the loss : 50573.4453125\n",
            "Epoch number: 3901 and the loss : 53344.06640625\n",
            "Epoch number: 3911 and the loss : 52364.484375\n",
            "Epoch number: 3921 and the loss : 50283.05078125\n",
            "Epoch number: 3931 and the loss : 52455.421875\n",
            "Epoch number: 3941 and the loss : 50350.67578125\n",
            "Epoch number: 3951 and the loss : 49043.33203125\n",
            "Epoch number: 3961 and the loss : 50984.94140625\n",
            "Epoch number: 3971 and the loss : 49004.31640625\n",
            "Epoch number: 3981 and the loss : 49369.4140625\n",
            "Epoch number: 3991 and the loss : 49369.11328125\n",
            "Epoch number: 4001 and the loss : 52349.6640625\n",
            "Epoch number: 4011 and the loss : 46303.5234375\n",
            "Epoch number: 4021 and the loss : 48275.421875\n",
            "Epoch number: 4031 and the loss : 46901.47265625\n",
            "Epoch number: 4041 and the loss : 46464.76953125\n",
            "Epoch number: 4051 and the loss : 47693.4296875\n",
            "Epoch number: 4061 and the loss : 45008.77734375\n",
            "Epoch number: 4071 and the loss : 45825.9140625\n",
            "Epoch number: 4081 and the loss : 44343.6015625\n",
            "Epoch number: 4091 and the loss : 45093.6953125\n",
            "Epoch number: 4101 and the loss : 44895.2421875\n",
            "Epoch number: 4111 and the loss : 44237.3203125\n",
            "Epoch number: 4121 and the loss : 45584.21875\n",
            "Epoch number: 4131 and the loss : 43173.0078125\n",
            "Epoch number: 4141 and the loss : 45374.484375\n",
            "Epoch number: 4151 and the loss : 42796.4453125\n",
            "Epoch number: 4161 and the loss : 42207.6953125\n",
            "Epoch number: 4171 and the loss : 42154.625\n",
            "Epoch number: 4181 and the loss : 41909.21875\n",
            "Epoch number: 4191 and the loss : 42107.546875\n",
            "Epoch number: 4201 and the loss : 42105.57421875\n",
            "Epoch number: 4211 and the loss : 40968.61328125\n",
            "Epoch number: 4221 and the loss : 40681.15234375\n",
            "Epoch number: 4231 and the loss : 41587.9375\n",
            "Epoch number: 4241 and the loss : 41055.1171875\n",
            "Epoch number: 4251 and the loss : 40368.65625\n",
            "Epoch number: 4261 and the loss : 41319.828125\n",
            "Epoch number: 4271 and the loss : 40955.55859375\n",
            "Epoch number: 4281 and the loss : 42623.86328125\n",
            "Epoch number: 4291 and the loss : 39909.97265625\n",
            "Epoch number: 4301 and the loss : 39745.8359375\n",
            "Epoch number: 4311 and the loss : 39031.54296875\n",
            "Epoch number: 4321 and the loss : 40434.6875\n",
            "Epoch number: 4331 and the loss : 39326.0390625\n",
            "Epoch number: 4341 and the loss : 41071.48046875\n",
            "Epoch number: 4351 and the loss : 41433.71875\n",
            "Epoch number: 4361 and the loss : 39624.43359375\n",
            "Epoch number: 4371 and the loss : 37995.24609375\n",
            "Epoch number: 4381 and the loss : 38040.0859375\n",
            "Epoch number: 4391 and the loss : 36203.8671875\n",
            "Epoch number: 4401 and the loss : 37698.97265625\n",
            "Epoch number: 4411 and the loss : 38815.9453125\n",
            "Epoch number: 4421 and the loss : 38918.2578125\n",
            "Epoch number: 4431 and the loss : 38332.1015625\n",
            "Epoch number: 4441 and the loss : 38265.171875\n",
            "Epoch number: 4451 and the loss : 37509.796875\n",
            "Epoch number: 4461 and the loss : 36755.16015625\n",
            "Epoch number: 4471 and the loss : 37530.38671875\n",
            "Epoch number: 4481 and the loss : 37114.34765625\n",
            "Epoch number: 4491 and the loss : 36175.3359375\n",
            "Epoch number: 4501 and the loss : 42066.56640625\n",
            "Epoch number: 4511 and the loss : 36765.03125\n",
            "Epoch number: 4521 and the loss : 35891.74609375\n",
            "Epoch number: 4531 and the loss : 39041.4375\n",
            "Epoch number: 4541 and the loss : 35135.26171875\n",
            "Epoch number: 4551 and the loss : 35344.56640625\n",
            "Epoch number: 4561 and the loss : 35922.7890625\n",
            "Epoch number: 4571 and the loss : 38363.59375\n",
            "Epoch number: 4581 and the loss : 35595.73046875\n",
            "Epoch number: 4591 and the loss : 34911.64453125\n",
            "Epoch number: 4601 and the loss : 37219.11328125\n",
            "Epoch number: 4611 and the loss : 35412.2265625\n",
            "Epoch number: 4621 and the loss : 36372.0\n",
            "Epoch number: 4631 and the loss : 35857.7109375\n",
            "Epoch number: 4641 and the loss : 35929.92578125\n",
            "Epoch number: 4651 and the loss : 35613.0\n",
            "Epoch number: 4661 and the loss : 35237.109375\n",
            "Epoch number: 4671 and the loss : 37754.5546875\n",
            "Epoch number: 4681 and the loss : 35799.9921875\n",
            "Epoch number: 4691 and the loss : 38617.85546875\n",
            "Epoch number: 4701 and the loss : 33774.890625\n",
            "Epoch number: 4711 and the loss : 33918.97265625\n",
            "Epoch number: 4721 and the loss : 36062.23046875\n",
            "Epoch number: 4731 and the loss : 35315.80859375\n",
            "Epoch number: 4741 and the loss : 34406.45703125\n",
            "Epoch number: 4751 and the loss : 35612.85546875\n",
            "Epoch number: 4761 and the loss : 34545.1015625\n",
            "Epoch number: 4771 and the loss : 35341.5078125\n",
            "Epoch number: 4781 and the loss : 34002.2109375\n",
            "Epoch number: 4791 and the loss : 36548.95703125\n",
            "Epoch number: 4801 and the loss : 34847.046875\n",
            "Epoch number: 4811 and the loss : 34615.55859375\n",
            "Epoch number: 4821 and the loss : 34902.109375\n",
            "Epoch number: 4831 and the loss : 35134.0\n",
            "Epoch number: 4841 and the loss : 35034.56640625\n",
            "Epoch number: 4851 and the loss : 36712.7265625\n",
            "Epoch number: 4861 and the loss : 37379.109375\n",
            "Epoch number: 4871 and the loss : 35349.578125\n",
            "Epoch number: 4881 and the loss : 37856.546875\n",
            "Epoch number: 4891 and the loss : 34759.44921875\n",
            "Epoch number: 4901 and the loss : 35948.21875\n",
            "Epoch number: 4911 and the loss : 33868.921875\n",
            "Epoch number: 4921 and the loss : 35168.3125\n",
            "Epoch number: 4931 and the loss : 36316.953125\n",
            "Epoch number: 4941 and the loss : 35770.8671875\n",
            "Epoch number: 4951 and the loss : 33067.4140625\n",
            "Epoch number: 4961 and the loss : 34765.9765625\n",
            "Epoch number: 4971 and the loss : 35288.93359375\n",
            "Epoch number: 4981 and the loss : 35068.890625\n",
            "Epoch number: 4991 and the loss : 34561.5\n"
          ]
        }
      ],
      "source": [
        "\n",
        "epochs=5000\n",
        "final_losses=[]\n",
        "for i in range(epochs):\n",
        "    i=i+1\n",
        "    y_pred=model(train_categorical,train_cont)\n",
        "    loss=torch.sqrt(loss_function(y_pred,y_train)) ### RMSE\n",
        "    final_losses.append(loss)\n",
        "    if i%10==1:\n",
        "        print(\"Epoch number: {} and the loss : {}\".format(i,loss.item()))\n",
        "    optimizer.zero_grad()\n",
        "    loss.backward()\n",
        "    optimizer.step()"
      ]
    },
    {
      "cell_type": "code",
      "source": [],
      "metadata": {
        "id": "XMS9DNaqUF7O"
      },
      "execution_count": 71,
      "outputs": []
    },
    {
      "cell_type": "code",
      "execution_count": 72,
      "metadata": {
        "id": "Po7IdG9XTBhQ",
        "outputId": "7e63225c-1f05-41b7-90a5-9483f0ad63c3",
        "colab": {
          "base_uri": "https://localhost:8080/",
          "height": 279
        }
      },
      "outputs": [
        {
          "output_type": "display_data",
          "data": {
            "text/plain": [
              "<Figure size 432x288 with 1 Axes>"
            ],
            "image/png": "[encoded data removed]"
          },
          "metadata": {
            "needs_background": "light"
          }
        }
      ],
      "source": [
        "import matplotlib.pyplot as plt\n",
        "%matplotlib inline\n",
        "plt.plot(range(epochs), [x.detach().numpy() for x in final_losses])\n",
        "plt.ylabel('RMSE Loss')\n",
        "plt.xlabel('epoch');"
      ]
    },
    {
      "cell_type": "code",
      "execution_count": 73,
      "metadata": {
        "id": "trR-m37kTBhR",
        "outputId": "a85c927e-a95d-4d35-a96d-a5d1a3a108f6",
        "colab": {
          "base_uri": "https://localhost:8080/"
        }
      },
      "outputs": [
        {
          "output_type": "stream",
          "name": "stdout",
          "text": [
            "RMSE: 40477.4609375\n"
          ]
        }
      ],
      "source": [
        "#### Validate the Test Data\n",
        "y_pred=\"\"\n",
        "with torch.no_grad():\n",
        "    y_pred=model(test_categorical,test_cont)\n",
        "    loss=torch.sqrt(loss_function(y_pred,y_test))\n",
        "print('RMSE: {}'.format(loss))"
      ]
    },
    {
      "cell_type": "code",
      "execution_count": 74,
      "metadata": {
        "id": "XGzyhld3TBhR"
      },
      "outputs": [],
      "source": [
        "data_verify=pd.DataFrame(y_test.tolist(),columns=[\"Test\"])"
      ]
    },
    {
      "cell_type": "code",
      "execution_count": 75,
      "metadata": {
        "id": "1DmbmlYwTBhR"
      },
      "outputs": [],
      "source": [
        "data_predicted=pd.DataFrame(y_pred.tolist(),columns=[\"Prediction\"])"
      ]
    },
    {
      "cell_type": "code",
      "execution_count": 76,
      "metadata": {
        "id": "9uHXtqfDTBhR",
        "outputId": "047269df-a9b4-4665-bb84-e1b29f6cb0eb",
        "colab": {
          "base_uri": "https://localhost:8080/",
          "height": 1000
        }
      },
      "outputs": [
        {
          "output_type": "execute_result",
          "data": {
            "text/plain": [
              "        Prediction\n",
              "0    118166.890625\n",
              "1    219049.218750\n",
              "2    127814.625000\n",
              "3    235170.750000\n",
              "4    210654.843750\n",
              "5    205635.062500\n",
              "6    157286.375000\n",
              "7    316152.593750\n",
              "8    150613.578125\n",
              "9    388799.156250\n",
              "10   216236.984375\n",
              "11   188186.937500\n",
              "12   175864.312500\n",
              "13   110382.234375\n",
              "14   188433.218750\n",
              "15   106684.398438\n",
              "16   238785.343750\n",
              "17   126735.953125\n",
              "18   323178.156250\n",
              "19    86557.351562\n",
              "20   192373.312500\n",
              "21   119452.250000\n",
              "22    91351.156250\n",
              "23   173964.031250\n",
              "24   156792.656250\n",
              "25   193080.734375\n",
              "26   137483.984375\n",
              "27   359699.031250\n",
              "28   148279.921875\n",
              "29   142031.953125\n",
              "30    77660.726562\n",
              "31   134147.015625\n",
              "32   263451.968750\n",
              "33    62396.746094\n",
              "34   234588.656250\n",
              "35   200798.312500\n",
              "36   125274.359375\n",
              "37   135081.390625\n",
              "38   166101.250000\n",
              "39   113224.312500\n",
              "40   263296.750000\n",
              "41   318239.781250\n",
              "42    79953.632812\n",
              "43   180308.593750\n",
              "44   191530.343750\n",
              "45   106678.578125\n",
              "46   102786.718750\n",
              "47   142492.468750\n",
              "48   162980.578125\n",
              "49   387085.062500\n",
              "50   132140.468750\n",
              "51   353284.250000\n",
              "52   236303.031250\n",
              "53   144424.375000\n",
              "54   262479.406250\n",
              "55   192250.625000\n",
              "56   130969.609375\n",
              "57   116127.000000\n",
              "58   278438.656250\n",
              "59   183924.140625\n",
              "60   336656.968750\n",
              "61   120652.781250\n",
              "62   221995.593750\n",
              "63   244984.718750\n",
              "64   171456.687500\n",
              "65   135097.468750\n",
              "66   162118.890625\n",
              "67   261423.062500\n",
              "68    56538.542969\n",
              "69   260857.375000\n",
              "70    75006.500000\n",
              "71    69789.179688\n",
              "72    89977.687500\n",
              "73   303563.593750\n",
              "74   198652.578125\n",
              "75   237809.125000\n",
              "76   144506.531250\n",
              "77   110807.929688\n",
              "78   122586.531250\n",
              "79   106997.078125\n",
              "80   147884.203125\n",
              "81   133608.390625\n",
              "82    78180.828125\n",
              "83   257557.046875\n",
              "84   122033.578125\n",
              "85    98299.609375\n",
              "86   147500.843750\n",
              "87   139080.109375\n",
              "88   155645.812500\n",
              "89    93925.414062\n",
              "90   281367.093750\n",
              "91   144373.312500\n",
              "92   202477.750000\n",
              "93   135723.218750\n",
              "94   114228.289062\n",
              "95   425003.593750\n",
              "96   214408.093750\n",
              "97   317209.968750\n",
              "98   188797.875000\n",
              "99   264678.250000\n",
              "100  176445.828125\n",
              "101  160541.640625\n",
              "102  223504.781250\n",
              "103  110925.468750\n",
              "104  252162.156250\n",
              "105  140366.421875\n",
              "106  164390.312500\n",
              "107  242302.187500\n",
              "108  266329.843750\n",
              "109  247619.359375\n",
              "110   91866.390625\n",
              "111  129053.531250\n",
              "112   15682.260742\n",
              "113  189091.687500\n",
              "114  109846.859375\n",
              "115  157871.500000\n",
              "116  132691.156250\n",
              "117  103312.132812\n",
              "118  359515.343750\n",
              "119  237203.093750\n",
              "120  236214.937500\n",
              "121  109128.328125\n",
              "122  178391.234375\n",
              "123  134505.062500\n",
              "124  102013.898438\n",
              "125  139059.609375\n",
              "126  214815.343750\n",
              "127  327277.968750\n",
              "128   95433.156250\n",
              "129  156893.750000\n",
              "130  110736.312500\n",
              "131  115791.203125\n",
              "132  191854.343750\n",
              "133  172595.500000\n",
              "134  246938.531250\n",
              "135  119014.171875\n",
              "136  321595.343750\n",
              "137  141203.000000\n",
              "138  142408.546875\n",
              "139  235872.890625\n",
              "140  236882.343750\n",
              "141  139705.343750\n",
              "142   71735.218750\n",
              "143  323941.062500\n",
              "144  142630.250000\n",
              "145  241097.125000\n",
              "146  140534.546875\n",
              "147  137853.750000\n",
              "148  131135.500000\n",
              "149  120996.859375\n",
              "150  126357.750000\n",
              "151  133914.531250\n",
              "152  215101.343750\n",
              "153  120273.796875\n",
              "154  108372.898438\n",
              "155  227310.906250\n",
              "156  105599.531250\n",
              "157  199401.265625\n",
              "158  143314.968750\n",
              "159  169270.015625\n",
              "160  117194.312500\n",
              "161  342116.718750\n",
              "162  128565.500000\n",
              "163  191975.937500\n",
              "164  205796.984375\n",
              "165  356383.250000\n",
              "166  207761.593750\n",
              "167   93009.078125\n",
              "168  267539.156250\n",
              "169  108619.406250\n",
              "170   84998.734375\n",
              "171  115518.453125\n",
              "172  300390.406250\n",
              "173   99122.375000\n",
              "174  157235.906250\n",
              "175  166889.062500\n",
              "176  177882.468750\n",
              "177  277608.343750\n",
              "178  209386.062500\n",
              "179  128696.265625"
            ],
            "text/html": [
              "\n",
              "  <div id=\"df-02422297-6d18-46d7-86d0-608fc04f69e5\">\n",
              "    <div class=\"colab-df-container\">\n",
              "      <div>\n",
              "<style scoped>\n",
              "    .dataframe tbody tr th:only-of-type {\n",
              "        vertical-align: middle;\n",
              "    }\n",
              "\n",
              "    .dataframe tbody tr th {\n",
              "        vertical-align: top;\n",
              "    }\n",
              "\n",
              "    .dataframe thead th {\n",
              "        text-align: right;\n",
              "    }\n",
              "</style>\n",
              "<table border=\"1\" class=\"dataframe\">\n",
              "  <thead>\n",
              "    <tr style=\"text-align: right;\">\n",
              "      <th></th>\n",
              "      <th>Prediction</th>\n",
              "    </tr>\n",
              "  </thead>\n",
              "  <tbody>\n",
              "    <tr>\n",
              "      <th>0</th>\n",
              "      <td>118166.890625</td>\n",
              "    </tr>\n",
              "    <tr>\n",
              "      <th>1</th>\n",
              "      <td>219049.218750</td>\n",
              "    </tr>\n",
              "    <tr>\n",
              "      <th>2</th>\n",
              "      <td>127814.625000</td>\n",
              "    </tr>\n",
              "    <tr>\n",
              "      <th>3</th>\n",
              "      <td>235170.750000</td>\n",
              "    </tr>\n",
              "    <tr>\n",
              "      <th>4</th>\n",
              "      <td>210654.843750</td>\n",
              "    </tr>\n",
              "    <tr>\n",
              "      <th>5</th>\n",
              "      <td>205635.062500</td>\n",
              "    </tr>\n",
              "    <tr>\n",
              "      <th>6</th>\n",
              "      <td>157286.375000</td>\n",
              "    </tr>\n",
              "    <tr>\n",
              "      <th>7</th>\n",
              "      <td>316152.593750</td>\n",
              "    </tr>\n",
              "    <tr>\n",
              "      <th>8</th>\n",
              "      <td>150613.578125</td>\n",
              "    </tr>\n",
              "    <tr>\n",
              "      <th>9</th>\n",
              "      <td>388799.156250</td>\n",
              "    </tr>\n",
              "    <tr>\n",
              "      <th>10</th>\n",
              "      <td>216236.984375</td>\n",
              "    </tr>\n",
              "    <tr>\n",
              "      <th>11</th>\n",
              "      <td>188186.937500</td>\n",
              "    </tr>\n",
              "    <tr>\n",
              "      <th>12</th>\n",
              "      <td>175864.312500</td>\n",
              "    </tr>\n",
              "    <tr>\n",
              "      <th>13</th>\n",
              "      <td>110382.234375</td>\n",
              "    </tr>\n",
              "    <tr>\n",
              "      <th>14</th>\n",
              "      <td>188433.218750</td>\n",
              "    </tr>\n",
              "    <tr>\n",
              "      <th>15</th>\n",
              "      <td>106684.398438</td>\n",
              "    </tr>\n",
              "    <tr>\n",
              "      <th>16</th>\n",
              "      <td>238785.343750</td>\n",
              "    </tr>\n",
              "    <tr>\n",
              "      <th>17</th>\n",
              "      <td>126735.953125</td>\n",
              "    </tr>\n",
              "    <tr>\n",
              "      <th>18</th>\n",
              "      <td>323178.156250</td>\n",
              "    </tr>\n",
              "    <tr>\n",
              "      <th>19</th>\n",
              "      <td>86557.351562</td>\n",
              "    </tr>\n",
              "    <tr>\n",
              "      <th>20</th>\n",
              "      <td>192373.312500</td>\n",
              "    </tr>\n",
              "    <tr>\n",
              "      <th>21</th>\n",
              "      <td>119452.250000</td>\n",
              "    </tr>\n",
              "    <tr>\n",
              "      <th>22</th>\n",
              "      <td>91351.156250</td>\n",
              "    </tr>\n",
              "    <tr>\n",
              "      <th>23</th>\n",
              "      <td>173964.031250</td>\n",
              "    </tr>\n",
              "    <tr>\n",
              "      <th>24</th>\n",
              "      <td>156792.656250</td>\n",
              "    </tr>\n",
              "    <tr>\n",
              "      <th>25</th>\n",
              "      <td>193080.734375</td>\n",
              "    </tr>\n",
              "    <tr>\n",
              "      <th>26</th>\n",
              "      <td>137483.984375</td>\n",
              "    </tr>\n",
              "    <tr>\n",
              "      <th>27</th>\n",
              "      <td>359699.031250</td>\n",
              "    </tr>\n",
              "    <tr>\n",
              "      <th>28</th>\n",
              "      <td>148279.921875</td>\n",
              "    </tr>\n",
              "    <tr>\n",
              "      <th>29</th>\n",
              "      <td>142031.953125</td>\n",
              "    </tr>\n",
              "    <tr>\n",
              "      <th>30</th>\n",
              "      <td>77660.726562</td>\n",
              "    </tr>\n",
              "    <tr>\n",
              "      <th>31</th>\n",
              "      <td>134147.015625</td>\n",
              "    </tr>\n",
              "    <tr>\n",
              "      <th>32</th>\n",
              "      <td>263451.968750</td>\n",
              "    </tr>\n",
              "    <tr>\n",
              "      <th>33</th>\n",
              "      <td>62396.746094</td>\n",
              "    </tr>\n",
              "    <tr>\n",
              "      <th>34</th>\n",
              "      <td>234588.656250</td>\n",
              "    </tr>\n",
              "    <tr>\n",
              "      <th>35</th>\n",
              "      <td>200798.312500</td>\n",
              "    </tr>\n",
              "    <tr>\n",
              "      <th>36</th>\n",
              "      <td>125274.359375</td>\n",
              "    </tr>\n",
              "    <tr>\n",
              "      <th>37</th>\n",
              "      <td>135081.390625</td>\n",
              "    </tr>\n",
              "    <tr>\n",
              "      <th>38</th>\n",
              "      <td>166101.250000</td>\n",
              "    </tr>\n",
              "    <tr>\n",
              "      <th>39</th>\n",
              "      <td>113224.312500</td>\n",
              "    </tr>\n",
              "    <tr>\n",
              "      <th>40</th>\n",
              "      <td>263296.750000</td>\n",
              "    </tr>\n",
              "    <tr>\n",
              "      <th>41</th>\n",
              "      <td>318239.781250</td>\n",
              "    </tr>\n",
              "    <tr>\n",
              "      <th>42</th>\n",
              "      <td>79953.632812</td>\n",
              "    </tr>\n",
              "    <tr>\n",
              "      <th>43</th>\n",
              "      <td>180308.593750</td>\n",
              "    </tr>\n",
              "    <tr>\n",
              "      <th>44</th>\n",
              "      <td>191530.343750</td>\n",
              "    </tr>\n",
              "    <tr>\n",
              "      <th>45</th>\n",
              "      <td>106678.578125</td>\n",
              "    </tr>\n",
              "    <tr>\n",
              "      <th>46</th>\n",
              "      <td>102786.718750</td>\n",
              "    </tr>\n",
              "    <tr>\n",
              "      <th>47</th>\n",
              "      <td>142492.468750</td>\n",
              "    </tr>\n",
              "    <tr>\n",
              "      <th>48</th>\n",
              "      <td>162980.578125</td>\n",
              "    </tr>\n",
              "    <tr>\n",
              "      <th>49</th>\n",
              "      <td>387085.062500</td>\n",
              "    </tr>\n",
              "    <tr>\n",
              "      <th>50</th>\n",
              "      <td>132140.468750</td>\n",
              "    </tr>\n",
              "    <tr>\n",
              "      <th>51</th>\n",
              "      <td>353284.250000</td>\n",
              "    </tr>\n",
              "    <tr>\n",
              "      <th>52</th>\n",
              "      <td>236303.031250</td>\n",
              "    </tr>\n",
              "    <tr>\n",
              "      <th>53</th>\n",
              "      <td>144424.375000</td>\n",
              "    </tr>\n",
              "    <tr>\n",
              "      <th>54</th>\n",
              "      <td>262479.406250</td>\n",
              "    </tr>\n",
              "    <tr>\n",
              "      <th>55</th>\n",
              "      <td>192250.625000</td>\n",
              "    </tr>\n",
              "    <tr>\n",
              "      <th>56</th>\n",
              "      <td>130969.609375</td>\n",
              "    </tr>\n",
              "    <tr>\n",
              "      <th>57</th>\n",
              "      <td>116127.000000</td>\n",
              "    </tr>\n",
              "    <tr>\n",
              "      <th>58</th>\n",
              "      <td>278438.656250</td>\n",
              "    </tr>\n",
              "    <tr>\n",
              "      <th>59</th>\n",
              "      <td>183924.140625</td>\n",
              "    </tr>\n",
              "    <tr>\n",
              "      <th>60</th>\n",
              "      <td>336656.968750</td>\n",
              "    </tr>\n",
              "    <tr>\n",
              "      <th>61</th>\n",
              "      <td>120652.781250</td>\n",
              "    </tr>\n",
              "    <tr>\n",
              "      <th>62</th>\n",
              "      <td>221995.593750</td>\n",
              "    </tr>\n",
              "    <tr>\n",
              "      <th>63</th>\n",
              "      <td>244984.718750</td>\n",
              "    </tr>\n",
              "    <tr>\n",
              "      <th>64</th>\n",
              "      <td>171456.687500</td>\n",
              "    </tr>\n",
              "    <tr>\n",
              "      <th>65</th>\n",
              "      <td>135097.468750</td>\n",
              "    </tr>\n",
              "    <tr>\n",
              "      <th>66</th>\n",
              "      <td>162118.890625</td>\n",
              "    </tr>\n",
              "    <tr>\n",
              "      <th>67</th>\n",
              "      <td>261423.062500</td>\n",
              "    </tr>\n",
              "    <tr>\n",
              "      <th>68</th>\n",
              "      <td>56538.542969</td>\n",
              "    </tr>\n",
              "    <tr>\n",
              "      <th>69</th>\n",
              "      <td>260857.375000</td>\n",
              "    </tr>\n",
              "    <tr>\n",
              "      <th>70</th>\n",
              "      <td>75006.500000</td>\n",
              "    </tr>\n",
              "    <tr>\n",
              "      <th>71</th>\n",
              "      <td>69789.179688</td>\n",
              "    </tr>\n",
              "    <tr>\n",
              "      <th>72</th>\n",
              "      <td>89977.687500</td>\n",
              "    </tr>\n",
              "    <tr>\n",
              "      <th>73</th>\n",
              "      <td>303563.593750</td>\n",
              "    </tr>\n",
              "    <tr>\n",
              "      <th>74</th>\n",
              "      <td>198652.578125</td>\n",
              "    </tr>\n",
              "    <tr>\n",
              "      <th>75</th>\n",
              "      <td>237809.125000</td>\n",
              "    </tr>\n",
              "    <tr>\n",
              "      <th>76</th>\n",
              "      <td>144506.531250</td>\n",
              "    </tr>\n",
              "    <tr>\n",
              "      <th>77</th>\n",
              "      <td>110807.929688</td>\n",
              "    </tr>\n",
              "    <tr>\n",
              "      <th>78</th>\n",
              "      <td>122586.531250</td>\n",
              "    </tr>\n",
              "    <tr>\n",
              "      <th>79</th>\n",
              "      <td>106997.078125</td>\n",
              "    </tr>\n",
              "    <tr>\n",
              "      <th>80</th>\n",
              "      <td>147884.203125</td>\n",
              "    </tr>\n",
              "    <tr>\n",
              "      <th>81</th>\n",
              "      <td>133608.390625</td>\n",
              "    </tr>\n",
              "    <tr>\n",
              "      <th>82</th>\n",
              "      <td>78180.828125</td>\n",
              "    </tr>\n",
              "    <tr>\n",
              "      <th>83</th>\n",
              "      <td>257557.046875</td>\n",
              "    </tr>\n",
              "    <tr>\n",
              "      <th>84</th>\n",
              "      <td>122033.578125</td>\n",
              "    </tr>\n",
              "    <tr>\n",
              "      <th>85</th>\n",
              "      <td>98299.609375</td>\n",
              "    </tr>\n",
              "    <tr>\n",
              "      <th>86</th>\n",
              "      <td>147500.843750</td>\n",
              "    </tr>\n",
              "    <tr>\n",
              "      <th>87</th>\n",
              "      <td>139080.109375</td>\n",
              "    </tr>\n",
              "    <tr>\n",
              "      <th>88</th>\n",
              "      <td>155645.812500</td>\n",
              "    </tr>\n",
              "    <tr>\n",
              "      <th>89</th>\n",
              "      <td>93925.414062</td>\n",
              "    </tr>\n",
              "    <tr>\n",
              "      <th>90</th>\n",
              "      <td>281367.093750</td>\n",
              "    </tr>\n",
              "    <tr>\n",
              "      <th>91</th>\n",
              "      <td>144373.312500</td>\n",
              "    </tr>\n",
              "    <tr>\n",
              "      <th>92</th>\n",
              "      <td>202477.750000</td>\n",
              "    </tr>\n",
              "    <tr>\n",
              "      <th>93</th>\n",
              "      <td>135723.218750</td>\n",
              "    </tr>\n",
              "    <tr>\n",
              "      <th>94</th>\n",
              "      <td>114228.289062</td>\n",
              "    </tr>\n",
              "    <tr>\n",
              "      <th>95</th>\n",
              "      <td>425003.593750</td>\n",
              "    </tr>\n",
              "    <tr>\n",
              "      <th>96</th>\n",
              "      <td>214408.093750</td>\n",
              "    </tr>\n",
              "    <tr>\n",
              "      <th>97</th>\n",
              "      <td>317209.968750</td>\n",
              "    </tr>\n",
              "    <tr>\n",
              "      <th>98</th>\n",
              "      <td>188797.875000</td>\n",
              "    </tr>\n",
              "    <tr>\n",
              "      <th>99</th>\n",
              "      <td>264678.250000</td>\n",
              "    </tr>\n",
              "    <tr>\n",
              "      <th>100</th>\n",
              "      <td>176445.828125</td>\n",
              "    </tr>\n",
              "    <tr>\n",
              "      <th>101</th>\n",
              "      <td>160541.640625</td>\n",
              "    </tr>\n",
              "    <tr>\n",
              "      <th>102</th>\n",
              "      <td>223504.781250</td>\n",
              "    </tr>\n",
              "    <tr>\n",
              "      <th>103</th>\n",
              "      <td>110925.468750</td>\n",
              "    </tr>\n",
              "    <tr>\n",
              "      <th>104</th>\n",
              "      <td>252162.156250</td>\n",
              "    </tr>\n",
              "    <tr>\n",
              "      <th>105</th>\n",
              "      <td>140366.421875</td>\n",
              "    </tr>\n",
              "    <tr>\n",
              "      <th>106</th>\n",
              "      <td>164390.312500</td>\n",
              "    </tr>\n",
              "    <tr>\n",
              "      <th>107</th>\n",
              "      <td>242302.187500</td>\n",
              "    </tr>\n",
              "    <tr>\n",
              "      <th>108</th>\n",
              "      <td>266329.843750</td>\n",
              "    </tr>\n",
              "    <tr>\n",
              "      <th>109</th>\n",
              "      <td>247619.359375</td>\n",
              "    </tr>\n",
              "    <tr>\n",
              "      <th>110</th>\n",
              "      <td>91866.390625</td>\n",
              "    </tr>\n",
              "    <tr>\n",
              "      <th>111</th>\n",
              "      <td>129053.531250</td>\n",
              "    </tr>\n",
              "    <tr>\n",
              "      <th>112</th>\n",
              "      <td>15682.260742</td>\n",
              "    </tr>\n",
              "    <tr>\n",
              "      <th>113</th>\n",
              "      <td>189091.687500</td>\n",
              "    </tr>\n",
              "    <tr>\n",
              "      <th>114</th>\n",
              "      <td>109846.859375</td>\n",
              "    </tr>\n",
              "    <tr>\n",
              "      <th>115</th>\n",
              "      <td>157871.500000</td>\n",
              "    </tr>\n",
              "    <tr>\n",
              "      <th>116</th>\n",
              "      <td>132691.156250</td>\n",
              "    </tr>\n",
              "    <tr>\n",
              "      <th>117</th>\n",
              "      <td>103312.132812</td>\n",
              "    </tr>\n",
              "    <tr>\n",
              "      <th>118</th>\n",
              "      <td>359515.343750</td>\n",
              "    </tr>\n",
              "    <tr>\n",
              "      <th>119</th>\n",
              "      <td>237203.093750</td>\n",
              "    </tr>\n",
              "    <tr>\n",
              "      <th>120</th>\n",
              "      <td>236214.937500</td>\n",
              "    </tr>\n",
              "    <tr>\n",
              "      <th>121</th>\n",
              "      <td>109128.328125</td>\n",
              "    </tr>\n",
              "    <tr>\n",
              "      <th>122</th>\n",
              "      <td>178391.234375</td>\n",
              "    </tr>\n",
              "    <tr>\n",
              "      <th>123</th>\n",
              "      <td>134505.062500</td>\n",
              "    </tr>\n",
              "    <tr>\n",
              "      <th>124</th>\n",
              "      <td>102013.898438</td>\n",
              "    </tr>\n",
              "    <tr>\n",
              "      <th>125</th>\n",
              "      <td>139059.609375</td>\n",
              "    </tr>\n",
              "    <tr>\n",
              "      <th>126</th>\n",
              "      <td>214815.343750</td>\n",
              "    </tr>\n",
              "    <tr>\n",
              "      <th>127</th>\n",
              "      <td>327277.968750</td>\n",
              "    </tr>\n",
              "    <tr>\n",
              "      <th>128</th>\n",
              "      <td>95433.156250</td>\n",
              "    </tr>\n",
              "    <tr>\n",
              "      <th>129</th>\n",
              "      <td>156893.750000</td>\n",
              "    </tr>\n",
              "    <tr>\n",
              "      <th>130</th>\n",
              "      <td>110736.312500</td>\n",
              "    </tr>\n",
              "    <tr>\n",
              "      <th>131</th>\n",
              "      <td>115791.203125</td>\n",
              "    </tr>\n",
              "    <tr>\n",
              "      <th>132</th>\n",
              "      <td>191854.343750</td>\n",
              "    </tr>\n",
              "    <tr>\n",
              "      <th>133</th>\n",
              "      <td>172595.500000</td>\n",
              "    </tr>\n",
              "    <tr>\n",
              "      <th>134</th>\n",
              "      <td>246938.531250</td>\n",
              "    </tr>\n",
              "    <tr>\n",
              "      <th>135</th>\n",
              "      <td>119014.171875</td>\n",
              "    </tr>\n",
              "    <tr>\n",
              "      <th>136</th>\n",
              "      <td>321595.343750</td>\n",
              "    </tr>\n",
              "    <tr>\n",
              "      <th>137</th>\n",
              "      <td>141203.000000</td>\n",
              "    </tr>\n",
              "    <tr>\n",
              "      <th>138</th>\n",
              "      <td>142408.546875</td>\n",
              "    </tr>\n",
              "    <tr>\n",
              "      <th>139</th>\n",
              "      <td>235872.890625</td>\n",
              "    </tr>\n",
              "    <tr>\n",
              "      <th>140</th>\n",
              "      <td>236882.343750</td>\n",
              "    </tr>\n",
              "    <tr>\n",
              "      <th>141</th>\n",
              "      <td>139705.343750</td>\n",
              "    </tr>\n",
              "    <tr>\n",
              "      <th>142</th>\n",
              "      <td>71735.218750</td>\n",
              "    </tr>\n",
              "    <tr>\n",
              "      <th>143</th>\n",
              "      <td>323941.062500</td>\n",
              "    </tr>\n",
              "    <tr>\n",
              "      <th>144</th>\n",
              "      <td>142630.250000</td>\n",
              "    </tr>\n",
              "    <tr>\n",
              "      <th>145</th>\n",
              "      <td>241097.125000</td>\n",
              "    </tr>\n",
              "    <tr>\n",
              "      <th>146</th>\n",
              "      <td>140534.546875</td>\n",
              "    </tr>\n",
              "    <tr>\n",
              "      <th>147</th>\n",
              "      <td>137853.750000</td>\n",
              "    </tr>\n",
              "    <tr>\n",
              "      <th>148</th>\n",
              "      <td>131135.500000</td>\n",
              "    </tr>\n",
              "    <tr>\n",
              "      <th>149</th>\n",
              "      <td>120996.859375</td>\n",
              "    </tr>\n",
              "    <tr>\n",
              "      <th>150</th>\n",
              "      <td>126357.750000</td>\n",
              "    </tr>\n",
              "    <tr>\n",
              "      <th>151</th>\n",
              "      <td>133914.531250</td>\n",
              "    </tr>\n",
              "    <tr>\n",
              "      <th>152</th>\n",
              "      <td>215101.343750</td>\n",
              "    </tr>\n",
              "    <tr>\n",
              "      <th>153</th>\n",
              "      <td>120273.796875</td>\n",
              "    </tr>\n",
              "    <tr>\n",
              "      <th>154</th>\n",
              "      <td>108372.898438</td>\n",
              "    </tr>\n",
              "    <tr>\n",
              "      <th>155</th>\n",
              "      <td>227310.906250</td>\n",
              "    </tr>\n",
              "    <tr>\n",
              "      <th>156</th>\n",
              "      <td>105599.531250</td>\n",
              "    </tr>\n",
              "    <tr>\n",
              "      <th>157</th>\n",
              "      <td>199401.265625</td>\n",
              "    </tr>\n",
              "    <tr>\n",
              "      <th>158</th>\n",
              "      <td>143314.968750</td>\n",
              "    </tr>\n",
              "    <tr>\n",
              "      <th>159</th>\n",
              "      <td>169270.015625</td>\n",
              "    </tr>\n",
              "    <tr>\n",
              "      <th>160</th>\n",
              "      <td>117194.312500</td>\n",
              "    </tr>\n",
              "    <tr>\n",
              "      <th>161</th>\n",
              "      <td>342116.718750</td>\n",
              "    </tr>\n",
              "    <tr>\n",
              "      <th>162</th>\n",
              "      <td>128565.500000</td>\n",
              "    </tr>\n",
              "    <tr>\n",
              "      <th>163</th>\n",
              "      <td>191975.937500</td>\n",
              "    </tr>\n",
              "    <tr>\n",
              "      <th>164</th>\n",
              "      <td>205796.984375</td>\n",
              "    </tr>\n",
              "    <tr>\n",
              "      <th>165</th>\n",
              "      <td>356383.250000</td>\n",
              "    </tr>\n",
              "    <tr>\n",
              "      <th>166</th>\n",
              "      <td>207761.593750</td>\n",
              "    </tr>\n",
              "    <tr>\n",
              "      <th>167</th>\n",
              "      <td>93009.078125</td>\n",
              "    </tr>\n",
              "    <tr>\n",
              "      <th>168</th>\n",
              "      <td>267539.156250</td>\n",
              "    </tr>\n",
              "    <tr>\n",
              "      <th>169</th>\n",
              "      <td>108619.406250</td>\n",
              "    </tr>\n",
              "    <tr>\n",
              "      <th>170</th>\n",
              "      <td>84998.734375</td>\n",
              "    </tr>\n",
              "    <tr>\n",
              "      <th>171</th>\n",
              "      <td>115518.453125</td>\n",
              "    </tr>\n",
              "    <tr>\n",
              "      <th>172</th>\n",
              "      <td>300390.406250</td>\n",
              "    </tr>\n",
              "    <tr>\n",
              "      <th>173</th>\n",
              "      <td>99122.375000</td>\n",
              "    </tr>\n",
              "    <tr>\n",
              "      <th>174</th>\n",
              "      <td>157235.906250</td>\n",
              "    </tr>\n",
              "    <tr>\n",
              "      <th>175</th>\n",
              "      <td>166889.062500</td>\n",
              "    </tr>\n",
              "    <tr>\n",
              "      <th>176</th>\n",
              "      <td>177882.468750</td>\n",
              "    </tr>\n",
              "    <tr>\n",
              "      <th>177</th>\n",
              "      <td>277608.343750</td>\n",
              "    </tr>\n",
              "    <tr>\n",
              "      <th>178</th>\n",
              "      <td>209386.062500</td>\n",
              "    </tr>\n",
              "    <tr>\n",
              "      <th>179</th>\n",
              "      <td>128696.265625</td>\n",
              "    </tr>\n",
              "  </tbody>\n",
              "</table>\n",
              "</div>\n",
              "      <button class=\"colab-df-convert\" onclick=\"convertToInteractive('df-02422297-6d18-46d7-86d0-608fc04f69e5')\"\n",
              "              title=\"Convert this dataframe to an interactive table.\"\n",
              "              style=\"display:none;\">\n",
              "        \n",
              "  <svg xmlns=\"http://www.w3.org/2000/svg\" height=\"24px\"viewBox=\"0 0 24 24\"\n",
              "       width=\"24px\">\n",
              "    <path d=\"M0 0h24v24H0V0z\" fill=\"none\"/>\n",
              "    <path d=\"M18.56 5.44l.94 2.06.94-2.06 2.06-.94-2.06-.94-.94-2.06-.94 2.06-2.06.94zm-11 1L8.5 8.5l.94-2.06 2.06-.94-2.06-.94L8.5 2.5l-.94 2.06-2.06.94zm10 10l.94 2.06.94-2.06 2.06-.94-2.06-.94-.94-2.06-.94 2.06-2.06.94z\"/><path d=\"M17.41 7.96l-1.37-1.37c-.4-.4-.92-.59-1.43-.59-.52 0-1.04.2-1.43.59L10.3 9.45l-7.72 7.72c-.78.78-.78 2.05 0 2.83L4 21.41c.39.39.9.59 1.41.59.51 0 1.02-.2 1.41-.59l7.78-7.78 2.81-2.81c.8-.78.8-2.07 0-2.86zM5.41 20L4 18.59l7.72-7.72 1.47 1.35L5.41 20z\"/>\n",
              "  </svg>\n",
              "      </button>\n",
              "      \n",
              "  <style>\n",
              "    .colab-df-container {\n",
              "      display:flex;\n",
              "      flex-wrap:wrap;\n",
              "      gap: 12px;\n",
              "    }\n",
              "\n",
              "    .colab-df-convert {\n",
              "      background-color: #E8F0FE;\n",
              "      border: none;\n",
              "      border-radius: 50%;\n",
              "      cursor: pointer;\n",
              "      display: none;\n",
              "      fill: #1967D2;\n",
              "      height: 32px;\n",
              "      padding: 0 0 0 0;\n",
              "      width: 32px;\n",
              "    }\n",
              "\n",
              "    .colab-df-convert:hover {\n",
              "      background-color: #E2EBFA;\n",
              "      box-shadow: 0px 1px 2px rgba(60, 64, 67, 0.3), 0px 1px 3px 1px rgba(60, 64, 67, 0.15);\n",
              "      fill: #174EA6;\n",
              "    }\n",
              "\n",
              "    [theme=dark] .colab-df-convert {\n",
              "      background-color: #3B4455;\n",
              "      fill: #D2E3FC;\n",
              "    }\n",
              "\n",
              "    [theme=dark] .colab-df-convert:hover {\n",
              "      background-color: #434B5C;\n",
              "      box-shadow: 0px 1px 3px 1px rgba(0, 0, 0, 0.15);\n",
              "      filter: drop-shadow(0px 1px 2px rgba(0, 0, 0, 0.3));\n",
              "      fill: #FFFFFF;\n",
              "    }\n",
              "  </style>\n",
              "\n",
              "      <script>\n",
              "        const buttonEl =\n",
              "          document.querySelector('#df-02422297-6d18-46d7-86d0-608fc04f69e5 button.colab-df-convert');\n",
              "        buttonEl.style.display =\n",
              "          google.colab.kernel.accessAllowed ? 'block' : 'none';\n",
              "\n",
              "        async function convertToInteractive(key) {\n",
              "          const element = document.querySelector('#df-02422297-6d18-46d7-86d0-608fc04f69e5');\n",
              "          const dataTable =\n",
              "            await google.colab.kernel.invokeFunction('convertToInteractive',\n",
              "                                                     [key], {});\n",
              "          if (!dataTable) return;\n",
              "\n",
              "          const docLinkHtml = 'Like what you see? Visit the ' +\n",
              "            '<a target=\"_blank\" href=https://colab.research.google.com/notebooks/data_table.ipynb>data table notebook</a>'\n",
              "            + ' to learn more about interactive tables.';\n",
              "          element.innerHTML = '';\n",
              "          dataTable['output_type'] = 'display_data';\n",
              "          await google.colab.output.renderOutput(dataTable, element);\n",
              "          const docLink = document.createElement('div');\n",
              "          docLink.innerHTML = docLinkHtml;\n",
              "          element.appendChild(docLink);\n",
              "        }\n",
              "      </script>\n",
              "    </div>\n",
              "  </div>\n",
              "  "
            ]
          },
          "metadata": {},
          "execution_count": 76
        }
      ],
      "source": [
        "data_predicted"
      ]
    },
    {
      "cell_type": "code",
      "execution_count": 77,
      "metadata": {
        "id": "15oL1MeWTBhS",
        "outputId": "e1c6748b-5fc1-4e1c-d06f-5dfebecbcdde",
        "colab": {
          "base_uri": "https://localhost:8080/",
          "height": 206
        }
      },
      "outputs": [
        {
          "output_type": "execute_result",
          "data": {
            "text/plain": [
              "       Test     Prediction    Difference\n",
              "0  130000.0  118166.890625  11833.109375\n",
              "1  138887.0  219049.218750 -80162.218750\n",
              "2  175500.0  127814.625000  47685.375000\n",
              "3  195000.0  235170.750000 -40170.750000\n",
              "4  142500.0  210654.843750 -68154.843750"
            ],
            "text/html": [
              "\n",
              "  <div id=\"df-29cccd0d-422c-4fdf-8321-d92f0aa6385a\">\n",
              "    <div class=\"colab-df-container\">\n",
              "      <div>\n",
              "<style scoped>\n",
              "    .dataframe tbody tr th:only-of-type {\n",
              "        vertical-align: middle;\n",
              "    }\n",
              "\n",
              "    .dataframe tbody tr th {\n",
              "        vertical-align: top;\n",
              "    }\n",
              "\n",
              "    .dataframe thead th {\n",
              "        text-align: right;\n",
              "    }\n",
              "</style>\n",
              "<table border=\"1\" class=\"dataframe\">\n",
              "  <thead>\n",
              "    <tr style=\"text-align: right;\">\n",
              "      <th></th>\n",
              "      <th>Test</th>\n",
              "      <th>Prediction</th>\n",
              "      <th>Difference</th>\n",
              "    </tr>\n",
              "  </thead>\n",
              "  <tbody>\n",
              "    <tr>\n",
              "      <th>0</th>\n",
              "      <td>130000.0</td>\n",
              "      <td>118166.890625</td>\n",
              "      <td>11833.109375</td>\n",
              "    </tr>\n",
              "    <tr>\n",
              "      <th>1</th>\n",
              "      <td>138887.0</td>\n",
              "      <td>219049.218750</td>\n",
              "      <td>-80162.218750</td>\n",
              "    </tr>\n",
              "    <tr>\n",
              "      <th>2</th>\n",
              "      <td>175500.0</td>\n",
              "      <td>127814.625000</td>\n",
              "      <td>47685.375000</td>\n",
              "    </tr>\n",
              "    <tr>\n",
              "      <th>3</th>\n",
              "      <td>195000.0</td>\n",
              "      <td>235170.750000</td>\n",
              "      <td>-40170.750000</td>\n",
              "    </tr>\n",
              "    <tr>\n",
              "      <th>4</th>\n",
              "      <td>142500.0</td>\n",
              "      <td>210654.843750</td>\n",
              "      <td>-68154.843750</td>\n",
              "    </tr>\n",
              "  </tbody>\n",
              "</table>\n",
              "</div>\n",
              "      <button class=\"colab-df-convert\" onclick=\"convertToInteractive('df-29cccd0d-422c-4fdf-8321-d92f0aa6385a')\"\n",
              "              title=\"Convert this dataframe to an interactive table.\"\n",
              "              style=\"display:none;\">\n",
              "        \n",
              "  <svg xmlns=\"http://www.w3.org/2000/svg\" height=\"24px\"viewBox=\"0 0 24 24\"\n",
              "       width=\"24px\">\n",
              "    <path d=\"M0 0h24v24H0V0z\" fill=\"none\"/>\n",
              "    <path d=\"M18.56 5.44l.94 2.06.94-2.06 2.06-.94-2.06-.94-.94-2.06-.94 2.06-2.06.94zm-11 1L8.5 8.5l.94-2.06 2.06-.94-2.06-.94L8.5 2.5l-.94 2.06-2.06.94zm10 10l.94 2.06.94-2.06 2.06-.94-2.06-.94-.94-2.06-.94 2.06-2.06.94z\"/><path d=\"M17.41 7.96l-1.37-1.37c-.4-.4-.92-.59-1.43-.59-.52 0-1.04.2-1.43.59L10.3 9.45l-7.72 7.72c-.78.78-.78 2.05 0 2.83L4 21.41c.39.39.9.59 1.41.59.51 0 1.02-.2 1.41-.59l7.78-7.78 2.81-2.81c.8-.78.8-2.07 0-2.86zM5.41 20L4 18.59l7.72-7.72 1.47 1.35L5.41 20z\"/>\n",
              "  </svg>\n",
              "      </button>\n",
              "      \n",
              "  <style>\n",
              "    .colab-df-container {\n",
              "      display:flex;\n",
              "      flex-wrap:wrap;\n",
              "      gap: 12px;\n",
              "    }\n",
              "\n",
              "    .colab-df-convert {\n",
              "      background-color: #E8F0FE;\n",
              "      border: none;\n",
              "      border-radius: 50%;\n",
              "      cursor: pointer;\n",
              "      display: none;\n",
              "      fill: #1967D2;\n",
              "      height: 32px;\n",
              "      padding: 0 0 0 0;\n",
              "      width: 32px;\n",
              "    }\n",
              "\n",
              "    .colab-df-convert:hover {\n",
              "      background-color: #E2EBFA;\n",
              "      box-shadow: 0px 1px 2px rgba(60, 64, 67, 0.3), 0px 1px 3px 1px rgba(60, 64, 67, 0.15);\n",
              "      fill: #174EA6;\n",
              "    }\n",
              "\n",
              "    [theme=dark] .colab-df-convert {\n",
              "      background-color: #3B4455;\n",
              "      fill: #D2E3FC;\n",
              "    }\n",
              "\n",
              "    [theme=dark] .colab-df-convert:hover {\n",
              "      background-color: #434B5C;\n",
              "      box-shadow: 0px 1px 3px 1px rgba(0, 0, 0, 0.15);\n",
              "      filter: drop-shadow(0px 1px 2px rgba(0, 0, 0, 0.3));\n",
              "      fill: #FFFFFF;\n",
              "    }\n",
              "  </style>\n",
              "\n",
              "      <script>\n",
              "        const buttonEl =\n",
              "          document.querySelector('#df-29cccd0d-422c-4fdf-8321-d92f0aa6385a button.colab-df-convert');\n",
              "        buttonEl.style.display =\n",
              "          google.colab.kernel.accessAllowed ? 'block' : 'none';\n",
              "\n",
              "        async function convertToInteractive(key) {\n",
              "          const element = document.querySelector('#df-29cccd0d-422c-4fdf-8321-d92f0aa6385a');\n",
              "          const dataTable =\n",
              "            await google.colab.kernel.invokeFunction('convertToInteractive',\n",
              "                                                     [key], {});\n",
              "          if (!dataTable) return;\n",
              "\n",
              "          const docLinkHtml = 'Like what you see? Visit the ' +\n",
              "            '<a target=\"_blank\" href=https://colab.research.google.com/notebooks/data_table.ipynb>data table notebook</a>'\n",
              "            + ' to learn more about interactive tables.';\n",
              "          element.innerHTML = '';\n",
              "          dataTable['output_type'] = 'display_data';\n",
              "          await google.colab.output.renderOutput(dataTable, element);\n",
              "          const docLink = document.createElement('div');\n",
              "          docLink.innerHTML = docLinkHtml;\n",
              "          element.appendChild(docLink);\n",
              "        }\n",
              "      </script>\n",
              "    </div>\n",
              "  </div>\n",
              "  "
            ]
          },
          "metadata": {},
          "execution_count": 77
        }
      ],
      "source": [
        "final_output=pd.concat([data_verify,data_predicted],axis=1)\n",
        "final_output['Difference']=final_output['Test']-final_output['Prediction']\n",
        "final_output.head()"
      ]
    },
    {
      "cell_type": "code",
      "execution_count": 78,
      "metadata": {
        "id": "97DPC_jZTBhS"
      },
      "outputs": [],
      "source": [
        "#### Saving The Model\n",
        "#### Save the model\n",
        "torch.save(model,'HousePrice.pt')"
      ]
    },
    {
      "cell_type": "code",
      "execution_count": 79,
      "metadata": {
        "id": "LQysRLjoTBhS"
      },
      "outputs": [],
      "source": [
        "torch.save(model.state_dict(),'HouseWeights.pt')"
      ]
    },
    {
      "cell_type": "code",
      "execution_count": 80,
      "metadata": {
        "id": "iKBvSBq1TBhS"
      },
      "outputs": [],
      "source": [
        "### Loading the saved Model\n",
        "embs_size=[(15, 8), (5, 3), (2, 1), (4, 2)]\n",
        "model1=FeedForwardNN(embs_size,5,1,[100,50],p=0.4)"
      ]
    },
    {
      "cell_type": "code",
      "execution_count": 81,
      "metadata": {
        "id": "tqJZ825vTBhT",
        "outputId": "087b962f-85cd-48a5-e3e8-4ba9eff6dcfe",
        "colab": {
          "base_uri": "https://localhost:8080/"
        }
      },
      "outputs": [
        {
          "output_type": "execute_result",
          "data": {
            "text/plain": [
              "<All keys matched successfully>"
            ]
          },
          "metadata": {},
          "execution_count": 81
        }
      ],
      "source": [
        "model1.load_state_dict(torch.load('HouseWeights.pt'))"
      ]
    },
    {
      "cell_type": "code",
      "execution_count": 82,
      "metadata": {
        "id": "3zNynck5TBhT",
        "outputId": "6157fc9f-6621-49a7-a15c-4ff951103435",
        "colab": {
          "base_uri": "https://localhost:8080/"
        }
      },
      "outputs": [
        {
          "output_type": "execute_result",
          "data": {
            "text/plain": [
              "FeedForwardNN(\n",
              "  (embeds): ModuleList(\n",
              "    (0): Embedding(15, 8)\n",
              "    (1): Embedding(5, 3)\n",
              "    (2): Embedding(2, 1)\n",
              "    (3): Embedding(4, 2)\n",
              "  )\n",
              "  (emb_drop): Dropout(p=0.4, inplace=False)\n",
              "  (bn_cont): BatchNorm1d(5, eps=1e-05, momentum=0.1, affine=True, track_running_stats=True)\n",
              "  (layers): Sequential(\n",
              "    (0): Linear(in_features=19, out_features=100, bias=True)\n",
              "    (1): ReLU(inplace=True)\n",
              "    (2): BatchNorm1d(100, eps=1e-05, momentum=0.1, affine=True, track_running_stats=True)\n",
              "    (3): Dropout(p=0.4, inplace=False)\n",
              "    (4): Linear(in_features=100, out_features=50, bias=True)\n",
              "    (5): ReLU(inplace=True)\n",
              "    (6): BatchNorm1d(50, eps=1e-05, momentum=0.1, affine=True, track_running_stats=True)\n",
              "    (7): Dropout(p=0.4, inplace=False)\n",
              "    (8): Linear(in_features=50, out_features=1, bias=True)\n",
              "  )\n",
              ")"
            ]
          },
          "metadata": {},
          "execution_count": 82
        }
      ],
      "source": [
        "model1.eval()"
      ]
    },
    {
      "cell_type": "code",
      "execution_count": 82,
      "metadata": {
        "id": "E4Sj6n7fTBhT"
      },
      "outputs": [],
      "source": []
    }
  ],
  "metadata": {
    "kernelspec": {
      "display_name": "Python 3",
      "language": "python",
      "name": "python3"
    },
    "language_info": {
      "codemirror_mode": {
        "name": "ipython",
        "version": 3
      },
      "file_extension": ".py",
      "mimetype": "text/x-python",
      "name": "python",
      "nbconvert_exporter": "python",
      "pygments_lexer": "ipython3",
      "version": "3.7.3"
    },
    "colab": {
      "provenance": [],
      "include_colab_link": true
    }
  },
  "nbformat": 4,
  "nbformat_minor": 0
}